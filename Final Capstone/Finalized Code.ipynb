{
 "cells": [
  {
   "cell_type": "code",
   "execution_count": 9,
   "id": "28819ee5",
   "metadata": {},
   "outputs": [],
   "source": [
    "import pandas as pd\n",
    "import matplotlib.pyplot as plt\n",
    "import numpy as np\n",
    "import seaborn as sns\n",
    "import os\n",
    "import pickle\n",
    "import matplotlib.pyplot as plt\n",
    "import seaborn as sns\n",
    "from sklearn import __version__ as sklearn_version\n",
    "from sklearn.decomposition import PCA\n",
    "from sklearn.preprocessing import scale\n",
    "from sklearn.model_selection import train_test_split, cross_validate, GridSearchCV, learning_curve\n",
    "from sklearn.preprocessing import StandardScaler, MinMaxScaler\n",
    "from sklearn.dummy import DummyRegressor\n",
    "from sklearn.linear_model import LinearRegression\n",
    "from sklearn.ensemble import RandomForestRegressor\n",
    "from sklearn.metrics import r2_score, mean_squared_error, mean_absolute_error, precision_recall_fscore_support\n",
    "from sklearn.pipeline import make_pipeline\n",
    "from sklearn.impute import SimpleImputer\n",
    "from sklearn.feature_selection import SelectKBest, f_regression\n",
    "from sklearn import __version__ as sklearn_version\n",
    "from sklearn.model_selection import cross_validate, cross_val_score\n",
    "from random import seed"
   ]
  },
  {
   "cell_type": "code",
   "execution_count": 2,
   "id": "1d7330fb",
   "metadata": {},
   "outputs": [],
   "source": [
    "df = pd.read_csv('final_NFL_dataset.csv')"
   ]
  },
  {
   "cell_type": "code",
   "execution_count": 3,
   "id": "d874081a",
   "metadata": {},
   "outputs": [
    {
     "data": {
      "text/html": [
       "<div>\n",
       "<style scoped>\n",
       "    .dataframe tbody tr th:only-of-type {\n",
       "        vertical-align: middle;\n",
       "    }\n",
       "\n",
       "    .dataframe tbody tr th {\n",
       "        vertical-align: top;\n",
       "    }\n",
       "\n",
       "    .dataframe thead th {\n",
       "        text-align: right;\n",
       "    }\n",
       "</style>\n",
       "<table border=\"1\" class=\"dataframe\">\n",
       "  <thead>\n",
       "    <tr style=\"text-align: right;\">\n",
       "      <th></th>\n",
       "      <th>Unnamed: 0</th>\n",
       "      <th>gameId</th>\n",
       "      <th>playId</th>\n",
       "      <th>nflId</th>\n",
       "      <th>displayName</th>\n",
       "      <th>frameId</th>\n",
       "      <th>time</th>\n",
       "      <th>jerseyNumber</th>\n",
       "      <th>club</th>\n",
       "      <th>x</th>\n",
       "      <th>...</th>\n",
       "      <th>foulName1_Offensive Holding</th>\n",
       "      <th>foulName1_Offensive Pass Interference</th>\n",
       "      <th>passResult_R</th>\n",
       "      <th>offenseFormation_I_FORM</th>\n",
       "      <th>offenseFormation_JUMBO</th>\n",
       "      <th>offenseFormation_PISTOL</th>\n",
       "      <th>offenseFormation_SHOTGUN</th>\n",
       "      <th>offenseFormation_SINGLEBACK</th>\n",
       "      <th>foulName2_Offensive Pass Interference</th>\n",
       "      <th>playDirection_right</th>\n",
       "    </tr>\n",
       "  </thead>\n",
       "  <tbody>\n",
       "    <tr>\n",
       "      <th>0</th>\n",
       "      <td>57098</td>\n",
       "      <td>2.022092e+09</td>\n",
       "      <td>3599.0</td>\n",
       "      <td>47836.0</td>\n",
       "      <td>Miles Sanders</td>\n",
       "      <td>14.0</td>\n",
       "      <td>2022-09-19 23:03:36.200000</td>\n",
       "      <td>26.0</td>\n",
       "      <td>PHI</td>\n",
       "      <td>48.84</td>\n",
       "      <td>...</td>\n",
       "      <td>0</td>\n",
       "      <td>0</td>\n",
       "      <td>0</td>\n",
       "      <td>0</td>\n",
       "      <td>0</td>\n",
       "      <td>0</td>\n",
       "      <td>1</td>\n",
       "      <td>0</td>\n",
       "      <td>0</td>\n",
       "      <td>1</td>\n",
       "    </tr>\n",
       "    <tr>\n",
       "      <th>1</th>\n",
       "      <td>44502</td>\n",
       "      <td>2.022092e+09</td>\n",
       "      <td>1649.0</td>\n",
       "      <td>47807.0</td>\n",
       "      <td>Josh Jacobs</td>\n",
       "      <td>67.0</td>\n",
       "      <td>2022-09-18 17:35:35.099999</td>\n",
       "      <td>28.0</td>\n",
       "      <td>LV</td>\n",
       "      <td>68.17</td>\n",
       "      <td>...</td>\n",
       "      <td>1</td>\n",
       "      <td>0</td>\n",
       "      <td>0</td>\n",
       "      <td>0</td>\n",
       "      <td>0</td>\n",
       "      <td>0</td>\n",
       "      <td>1</td>\n",
       "      <td>0</td>\n",
       "      <td>0</td>\n",
       "      <td>0</td>\n",
       "    </tr>\n",
       "    <tr>\n",
       "      <th>2</th>\n",
       "      <td>39265</td>\n",
       "      <td>2.022092e+09</td>\n",
       "      <td>3245.0</td>\n",
       "      <td>46094.0</td>\n",
       "      <td>Hayden Hurst</td>\n",
       "      <td>12.0</td>\n",
       "      <td>2022-09-18 18:54:15.900000</td>\n",
       "      <td>88.0</td>\n",
       "      <td>CIN</td>\n",
       "      <td>67.71</td>\n",
       "      <td>...</td>\n",
       "      <td>0</td>\n",
       "      <td>0</td>\n",
       "      <td>0</td>\n",
       "      <td>0</td>\n",
       "      <td>0</td>\n",
       "      <td>0</td>\n",
       "      <td>0</td>\n",
       "      <td>1</td>\n",
       "      <td>0</td>\n",
       "      <td>1</td>\n",
       "    </tr>\n",
       "    <tr>\n",
       "      <th>3</th>\n",
       "      <td>15407</td>\n",
       "      <td>2.022092e+09</td>\n",
       "      <td>3419.0</td>\n",
       "      <td>43722.0</td>\n",
       "      <td>J.D. McKissic</td>\n",
       "      <td>10.0</td>\n",
       "      <td>2022-09-18 15:46:54.400000</td>\n",
       "      <td>23.0</td>\n",
       "      <td>WAS</td>\n",
       "      <td>37.80</td>\n",
       "      <td>...</td>\n",
       "      <td>0</td>\n",
       "      <td>0</td>\n",
       "      <td>0</td>\n",
       "      <td>0</td>\n",
       "      <td>0</td>\n",
       "      <td>0</td>\n",
       "      <td>1</td>\n",
       "      <td>0</td>\n",
       "      <td>0</td>\n",
       "      <td>1</td>\n",
       "    </tr>\n",
       "    <tr>\n",
       "      <th>4</th>\n",
       "      <td>18225</td>\n",
       "      <td>2.022092e+09</td>\n",
       "      <td>2198.0</td>\n",
       "      <td>53430.0</td>\n",
       "      <td>Trevor Lawrence</td>\n",
       "      <td>31.0</td>\n",
       "      <td>2022-09-18 14:49:42.500000</td>\n",
       "      <td>16.0</td>\n",
       "      <td>JAX</td>\n",
       "      <td>83.37</td>\n",
       "      <td>...</td>\n",
       "      <td>0</td>\n",
       "      <td>0</td>\n",
       "      <td>0</td>\n",
       "      <td>0</td>\n",
       "      <td>0</td>\n",
       "      <td>0</td>\n",
       "      <td>1</td>\n",
       "      <td>0</td>\n",
       "      <td>0</td>\n",
       "      <td>0</td>\n",
       "    </tr>\n",
       "  </tbody>\n",
       "</table>\n",
       "<p>5 rows × 82 columns</p>\n",
       "</div>"
      ],
      "text/plain": [
       "   Unnamed: 0        gameId  playId    nflId      displayName  frameId  \\\n",
       "0       57098  2.022092e+09  3599.0  47836.0    Miles Sanders     14.0   \n",
       "1       44502  2.022092e+09  1649.0  47807.0      Josh Jacobs     67.0   \n",
       "2       39265  2.022092e+09  3245.0  46094.0     Hayden Hurst     12.0   \n",
       "3       15407  2.022092e+09  3419.0  43722.0    J.D. McKissic     10.0   \n",
       "4       18225  2.022092e+09  2198.0  53430.0  Trevor Lawrence     31.0   \n",
       "\n",
       "                         time  jerseyNumber club      x  ...  \\\n",
       "0  2022-09-19 23:03:36.200000          26.0  PHI  48.84  ...   \n",
       "1  2022-09-18 17:35:35.099999          28.0   LV  68.17  ...   \n",
       "2  2022-09-18 18:54:15.900000          88.0  CIN  67.71  ...   \n",
       "3  2022-09-18 15:46:54.400000          23.0  WAS  37.80  ...   \n",
       "4  2022-09-18 14:49:42.500000          16.0  JAX  83.37  ...   \n",
       "\n",
       "   foulName1_Offensive Holding  foulName1_Offensive Pass Interference  \\\n",
       "0                            0                                      0   \n",
       "1                            1                                      0   \n",
       "2                            0                                      0   \n",
       "3                            0                                      0   \n",
       "4                            0                                      0   \n",
       "\n",
       "   passResult_R  offenseFormation_I_FORM  offenseFormation_JUMBO  \\\n",
       "0             0                        0                       0   \n",
       "1             0                        0                       0   \n",
       "2             0                        0                       0   \n",
       "3             0                        0                       0   \n",
       "4             0                        0                       0   \n",
       "\n",
       "   offenseFormation_PISTOL offenseFormation_SHOTGUN  \\\n",
       "0                        0                        1   \n",
       "1                        0                        1   \n",
       "2                        0                        0   \n",
       "3                        0                        1   \n",
       "4                        0                        1   \n",
       "\n",
       "   offenseFormation_SINGLEBACK foulName2_Offensive Pass Interference  \\\n",
       "0                            0                                     0   \n",
       "1                            0                                     0   \n",
       "2                            1                                     0   \n",
       "3                            0                                     0   \n",
       "4                            0                                     0   \n",
       "\n",
       "  playDirection_right  \n",
       "0                   1  \n",
       "1                   0  \n",
       "2                   1  \n",
       "3                   1  \n",
       "4                   0  \n",
       "\n",
       "[5 rows x 82 columns]"
      ]
     },
     "execution_count": 3,
     "metadata": {},
     "output_type": "execute_result"
    }
   ],
   "source": [
    "df.head()"
   ]
  },
  {
   "cell_type": "code",
   "execution_count": 20,
   "id": "f32e1ba9",
   "metadata": {},
   "outputs": [],
   "source": [
    "X_train, X_test, y_train, y_test = train_test_split(df.drop(columns = 'expectedPointsAdded'), df.expectedPointsAdded, test_size = .3, random_state = 47)"
   ]
  },
  {
   "cell_type": "code",
   "execution_count": 21,
   "id": "35892217",
   "metadata": {},
   "outputs": [],
   "source": [
    "str_list = df.select_dtypes(include = object).columns\n",
    "id_train = X_train[str_list]\n",
    "id_test = X_test[str_list]\n",
    "X_train.drop(columns= str_list, inplace= True)\n",
    "X_test.drop(columns=str_list, inplace= True)"
   ]
  },
  {
   "cell_type": "code",
   "execution_count": 22,
   "id": "0f2ef353",
   "metadata": {},
   "outputs": [],
   "source": [
    "RF_pipe = make_pipeline(\n",
    "    SimpleImputer(strategy= 'mean'),\n",
    "    StandardScaler(),\n",
    "    RandomForestRegressor(random_state= 47, n_estimators = 112)\n",
    ")"
   ]
  },
  {
   "cell_type": "code",
   "execution_count": 27,
   "id": "f9748449",
   "metadata": {},
   "outputs": [
    {
     "name": "stderr",
     "output_type": "stream",
     "text": [
      "/var/folders/1v/cty37wrs42196x0dzbz8j4jw0000gn/T/ipykernel_61468/1383529358.py:3: SettingWithCopyWarning: \n",
      "A value is trying to be set on a copy of a slice from a DataFrame\n",
      "\n",
      "See the caveats in the documentation: https://pandas.pydata.org/pandas-docs/stable/user_guide/indexing.html#returning-a-view-versus-a-copy\n",
      "  X_rav.drop(columns= str_list, inplace= True)\n"
     ]
    }
   ],
   "source": [
    "X_rav = df[df['club'] == 'BAL']\n",
    "X_rav.drop(columns = 'expectedPointsAdded')\n",
    "X_rav.drop(columns= str_list, inplace= True)"
   ]
  },
  {
   "cell_type": "code",
   "execution_count": 28,
   "id": "7d6a0d6c",
   "metadata": {},
   "outputs": [],
   "source": [
    "y_rav = df[df['club'] == 'BAL']\n",
    "y_rav = y_rav['expectedPointsAdded']"
   ]
  },
  {
   "cell_type": "code",
   "execution_count": 29,
   "id": "bf561ea1",
   "metadata": {},
   "outputs": [
    {
     "name": "stderr",
     "output_type": "stream",
     "text": [
      "/Users/cyn/anaconda3/lib/python3.11/site-packages/sklearn/impute/_base.py:555: UserWarning: Skipping features without any observed values: ['penaltyYards']. At least one non-missing value is needed for imputation with strategy='mean'.\n",
      "  warnings.warn(\n"
     ]
    },
    {
     "data": {
      "text/html": [
       "<style>#sk-container-id-1 {color: black;}#sk-container-id-1 pre{padding: 0;}#sk-container-id-1 div.sk-toggleable {background-color: white;}#sk-container-id-1 label.sk-toggleable__label {cursor: pointer;display: block;width: 100%;margin-bottom: 0;padding: 0.3em;box-sizing: border-box;text-align: center;}#sk-container-id-1 label.sk-toggleable__label-arrow:before {content: \"▸\";float: left;margin-right: 0.25em;color: #696969;}#sk-container-id-1 label.sk-toggleable__label-arrow:hover:before {color: black;}#sk-container-id-1 div.sk-estimator:hover label.sk-toggleable__label-arrow:before {color: black;}#sk-container-id-1 div.sk-toggleable__content {max-height: 0;max-width: 0;overflow: hidden;text-align: left;background-color: #f0f8ff;}#sk-container-id-1 div.sk-toggleable__content pre {margin: 0.2em;color: black;border-radius: 0.25em;background-color: #f0f8ff;}#sk-container-id-1 input.sk-toggleable__control:checked~div.sk-toggleable__content {max-height: 200px;max-width: 100%;overflow: auto;}#sk-container-id-1 input.sk-toggleable__control:checked~label.sk-toggleable__label-arrow:before {content: \"▾\";}#sk-container-id-1 div.sk-estimator input.sk-toggleable__control:checked~label.sk-toggleable__label {background-color: #d4ebff;}#sk-container-id-1 div.sk-label input.sk-toggleable__control:checked~label.sk-toggleable__label {background-color: #d4ebff;}#sk-container-id-1 input.sk-hidden--visually {border: 0;clip: rect(1px 1px 1px 1px);clip: rect(1px, 1px, 1px, 1px);height: 1px;margin: -1px;overflow: hidden;padding: 0;position: absolute;width: 1px;}#sk-container-id-1 div.sk-estimator {font-family: monospace;background-color: #f0f8ff;border: 1px dotted black;border-radius: 0.25em;box-sizing: border-box;margin-bottom: 0.5em;}#sk-container-id-1 div.sk-estimator:hover {background-color: #d4ebff;}#sk-container-id-1 div.sk-parallel-item::after {content: \"\";width: 100%;border-bottom: 1px solid gray;flex-grow: 1;}#sk-container-id-1 div.sk-label:hover label.sk-toggleable__label {background-color: #d4ebff;}#sk-container-id-1 div.sk-serial::before {content: \"\";position: absolute;border-left: 1px solid gray;box-sizing: border-box;top: 0;bottom: 0;left: 50%;z-index: 0;}#sk-container-id-1 div.sk-serial {display: flex;flex-direction: column;align-items: center;background-color: white;padding-right: 0.2em;padding-left: 0.2em;position: relative;}#sk-container-id-1 div.sk-item {position: relative;z-index: 1;}#sk-container-id-1 div.sk-parallel {display: flex;align-items: stretch;justify-content: center;background-color: white;position: relative;}#sk-container-id-1 div.sk-item::before, #sk-container-id-1 div.sk-parallel-item::before {content: \"\";position: absolute;border-left: 1px solid gray;box-sizing: border-box;top: 0;bottom: 0;left: 50%;z-index: -1;}#sk-container-id-1 div.sk-parallel-item {display: flex;flex-direction: column;z-index: 1;position: relative;background-color: white;}#sk-container-id-1 div.sk-parallel-item:first-child::after {align-self: flex-end;width: 50%;}#sk-container-id-1 div.sk-parallel-item:last-child::after {align-self: flex-start;width: 50%;}#sk-container-id-1 div.sk-parallel-item:only-child::after {width: 0;}#sk-container-id-1 div.sk-dashed-wrapped {border: 1px dashed gray;margin: 0 0.4em 0.5em 0.4em;box-sizing: border-box;padding-bottom: 0.4em;background-color: white;}#sk-container-id-1 div.sk-label label {font-family: monospace;font-weight: bold;display: inline-block;line-height: 1.2em;}#sk-container-id-1 div.sk-label-container {text-align: center;}#sk-container-id-1 div.sk-container {/* jupyter's `normalize.less` sets `[hidden] { display: none; }` but bootstrap.min.css set `[hidden] { display: none !important; }` so we also need the `!important` here to be able to override the default hidden behavior on the sphinx rendered scikit-learn.org. See: https://github.com/scikit-learn/scikit-learn/issues/21755 */display: inline-block !important;position: relative;}#sk-container-id-1 div.sk-text-repr-fallback {display: none;}</style><div id=\"sk-container-id-1\" class=\"sk-top-container\"><div class=\"sk-text-repr-fallback\"><pre>Pipeline(steps=[(&#x27;simpleimputer&#x27;, SimpleImputer()),\n",
       "                (&#x27;standardscaler&#x27;, StandardScaler()),\n",
       "                (&#x27;randomforestregressor&#x27;,\n",
       "                 RandomForestRegressor(n_estimators=112, random_state=47))])</pre><b>In a Jupyter environment, please rerun this cell to show the HTML representation or trust the notebook. <br />On GitHub, the HTML representation is unable to render, please try loading this page with nbviewer.org.</b></div><div class=\"sk-container\" hidden><div class=\"sk-item sk-dashed-wrapped\"><div class=\"sk-label-container\"><div class=\"sk-label sk-toggleable\"><input class=\"sk-toggleable__control sk-hidden--visually\" id=\"sk-estimator-id-1\" type=\"checkbox\" ><label for=\"sk-estimator-id-1\" class=\"sk-toggleable__label sk-toggleable__label-arrow\">Pipeline</label><div class=\"sk-toggleable__content\"><pre>Pipeline(steps=[(&#x27;simpleimputer&#x27;, SimpleImputer()),\n",
       "                (&#x27;standardscaler&#x27;, StandardScaler()),\n",
       "                (&#x27;randomforestregressor&#x27;,\n",
       "                 RandomForestRegressor(n_estimators=112, random_state=47))])</pre></div></div></div><div class=\"sk-serial\"><div class=\"sk-item\"><div class=\"sk-estimator sk-toggleable\"><input class=\"sk-toggleable__control sk-hidden--visually\" id=\"sk-estimator-id-2\" type=\"checkbox\" ><label for=\"sk-estimator-id-2\" class=\"sk-toggleable__label sk-toggleable__label-arrow\">SimpleImputer</label><div class=\"sk-toggleable__content\"><pre>SimpleImputer()</pre></div></div></div><div class=\"sk-item\"><div class=\"sk-estimator sk-toggleable\"><input class=\"sk-toggleable__control sk-hidden--visually\" id=\"sk-estimator-id-3\" type=\"checkbox\" ><label for=\"sk-estimator-id-3\" class=\"sk-toggleable__label sk-toggleable__label-arrow\">StandardScaler</label><div class=\"sk-toggleable__content\"><pre>StandardScaler()</pre></div></div></div><div class=\"sk-item\"><div class=\"sk-estimator sk-toggleable\"><input class=\"sk-toggleable__control sk-hidden--visually\" id=\"sk-estimator-id-4\" type=\"checkbox\" ><label for=\"sk-estimator-id-4\" class=\"sk-toggleable__label sk-toggleable__label-arrow\">RandomForestRegressor</label><div class=\"sk-toggleable__content\"><pre>RandomForestRegressor(n_estimators=112, random_state=47)</pre></div></div></div></div></div></div></div>"
      ],
      "text/plain": [
       "Pipeline(steps=[('simpleimputer', SimpleImputer()),\n",
       "                ('standardscaler', StandardScaler()),\n",
       "                ('randomforestregressor',\n",
       "                 RandomForestRegressor(n_estimators=112, random_state=47))])"
      ]
     },
     "execution_count": 29,
     "metadata": {},
     "output_type": "execute_result"
    }
   ],
   "source": [
    "RF_pipe.fit(X_rav, y_rav)"
   ]
  },
  {
   "cell_type": "code",
   "execution_count": 30,
   "id": "70c1068c",
   "metadata": {},
   "outputs": [],
   "source": [
    "feats = ['playResult', 'prePenaltyPlayResult', 'yardsToGo', 'down']"
   ]
  },
  {
   "cell_type": "code",
   "execution_count": 31,
   "id": "7fc6d8cc",
   "metadata": {},
   "outputs": [],
   "source": [
    "def predictions(features, deltas):\n",
    "    \"\"\" Changing features by deltas to see how it will\n",
    "        affect the expected points added\n",
    "    \"\"\"\n",
    "    rav2 = X_rav.copy()\n",
    "    for f, d in zip((features), deltas):\n",
    "        rav2[features] += deltas\n",
    "    return np.mean(RF_pipe.predict(X_rav)) / np.mean(RF_pipe.predict(rav2))  "
   ]
  },
  {
   "cell_type": "markdown",
   "id": "5c9a0278",
   "metadata": {},
   "source": [
    "# Scenario 1:"
   ]
  },
  {
   "cell_type": "code",
   "execution_count": 46,
   "id": "792eaae9",
   "metadata": {},
   "outputs": [
    {
     "name": "stderr",
     "output_type": "stream",
     "text": [
      "/Users/cyn/anaconda3/lib/python3.11/site-packages/sklearn/impute/_base.py:555: UserWarning: Skipping features without any observed values: ['penaltyYards']. At least one non-missing value is needed for imputation with strategy='mean'.\n",
      "  warnings.warn(\n",
      "/Users/cyn/anaconda3/lib/python3.11/site-packages/sklearn/impute/_base.py:555: UserWarning: Skipping features without any observed values: ['penaltyYards']. At least one non-missing value is needed for imputation with strategy='mean'.\n",
      "  warnings.warn(\n",
      "/Users/cyn/anaconda3/lib/python3.11/site-packages/sklearn/impute/_base.py:555: UserWarning: Skipping features without any observed values: ['penaltyYards']. At least one non-missing value is needed for imputation with strategy='mean'.\n",
      "  warnings.warn(\n",
      "/Users/cyn/anaconda3/lib/python3.11/site-packages/sklearn/impute/_base.py:555: UserWarning: Skipping features without any observed values: ['penaltyYards']. At least one non-missing value is needed for imputation with strategy='mean'.\n",
      "  warnings.warn(\n",
      "/Users/cyn/anaconda3/lib/python3.11/site-packages/sklearn/impute/_base.py:555: UserWarning: Skipping features without any observed values: ['penaltyYards']. At least one non-missing value is needed for imputation with strategy='mean'.\n",
      "  warnings.warn(\n",
      "/Users/cyn/anaconda3/lib/python3.11/site-packages/sklearn/impute/_base.py:555: UserWarning: Skipping features without any observed values: ['penaltyYards']. At least one non-missing value is needed for imputation with strategy='mean'.\n",
      "  warnings.warn(\n",
      "/Users/cyn/anaconda3/lib/python3.11/site-packages/sklearn/impute/_base.py:555: UserWarning: Skipping features without any observed values: ['penaltyYards']. At least one non-missing value is needed for imputation with strategy='mean'.\n",
      "  warnings.warn(\n",
      "/Users/cyn/anaconda3/lib/python3.11/site-packages/sklearn/impute/_base.py:555: UserWarning: Skipping features without any observed values: ['penaltyYards']. At least one non-missing value is needed for imputation with strategy='mean'.\n",
      "  warnings.warn(\n",
      "/Users/cyn/anaconda3/lib/python3.11/site-packages/sklearn/impute/_base.py:555: UserWarning: Skipping features without any observed values: ['penaltyYards']. At least one non-missing value is needed for imputation with strategy='mean'.\n",
      "  warnings.warn(\n",
      "/Users/cyn/anaconda3/lib/python3.11/site-packages/sklearn/impute/_base.py:555: UserWarning: Skipping features without any observed values: ['penaltyYards']. At least one non-missing value is needed for imputation with strategy='mean'.\n",
      "  warnings.warn(\n",
      "/Users/cyn/anaconda3/lib/python3.11/site-packages/sklearn/impute/_base.py:555: UserWarning: Skipping features without any observed values: ['penaltyYards']. At least one non-missing value is needed for imputation with strategy='mean'.\n",
      "  warnings.warn(\n",
      "/Users/cyn/anaconda3/lib/python3.11/site-packages/sklearn/impute/_base.py:555: UserWarning: Skipping features without any observed values: ['penaltyYards']. At least one non-missing value is needed for imputation with strategy='mean'.\n",
      "  warnings.warn(\n",
      "/Users/cyn/anaconda3/lib/python3.11/site-packages/sklearn/impute/_base.py:555: UserWarning: Skipping features without any observed values: ['penaltyYards']. At least one non-missing value is needed for imputation with strategy='mean'.\n",
      "  warnings.warn(\n",
      "/Users/cyn/anaconda3/lib/python3.11/site-packages/sklearn/impute/_base.py:555: UserWarning: Skipping features without any observed values: ['penaltyYards']. At least one non-missing value is needed for imputation with strategy='mean'.\n",
      "  warnings.warn(\n",
      "/Users/cyn/anaconda3/lib/python3.11/site-packages/sklearn/impute/_base.py:555: UserWarning: Skipping features without any observed values: ['penaltyYards']. At least one non-missing value is needed for imputation with strategy='mean'.\n",
      "  warnings.warn(\n",
      "/Users/cyn/anaconda3/lib/python3.11/site-packages/sklearn/impute/_base.py:555: UserWarning: Skipping features without any observed values: ['penaltyYards']. At least one non-missing value is needed for imputation with strategy='mean'.\n",
      "  warnings.warn(\n",
      "/Users/cyn/anaconda3/lib/python3.11/site-packages/sklearn/impute/_base.py:555: UserWarning: Skipping features without any observed values: ['penaltyYards']. At least one non-missing value is needed for imputation with strategy='mean'.\n",
      "  warnings.warn(\n",
      "/Users/cyn/anaconda3/lib/python3.11/site-packages/sklearn/impute/_base.py:555: UserWarning: Skipping features without any observed values: ['penaltyYards']. At least one non-missing value is needed for imputation with strategy='mean'.\n",
      "  warnings.warn(\n",
      "/Users/cyn/anaconda3/lib/python3.11/site-packages/sklearn/impute/_base.py:555: UserWarning: Skipping features without any observed values: ['penaltyYards']. At least one non-missing value is needed for imputation with strategy='mean'.\n",
      "  warnings.warn(\n",
      "/Users/cyn/anaconda3/lib/python3.11/site-packages/sklearn/impute/_base.py:555: UserWarning: Skipping features without any observed values: ['penaltyYards']. At least one non-missing value is needed for imputation with strategy='mean'.\n",
      "  warnings.warn(\n",
      "/Users/cyn/anaconda3/lib/python3.11/site-packages/sklearn/impute/_base.py:555: UserWarning: Skipping features without any observed values: ['penaltyYards']. At least one non-missing value is needed for imputation with strategy='mean'.\n",
      "  warnings.warn(\n",
      "/Users/cyn/anaconda3/lib/python3.11/site-packages/sklearn/impute/_base.py:555: UserWarning: Skipping features without any observed values: ['penaltyYards']. At least one non-missing value is needed for imputation with strategy='mean'.\n",
      "  warnings.warn(\n",
      "/Users/cyn/anaconda3/lib/python3.11/site-packages/sklearn/impute/_base.py:555: UserWarning: Skipping features without any observed values: ['penaltyYards']. At least one non-missing value is needed for imputation with strategy='mean'.\n",
      "  warnings.warn(\n",
      "/Users/cyn/anaconda3/lib/python3.11/site-packages/sklearn/impute/_base.py:555: UserWarning: Skipping features without any observed values: ['penaltyYards']. At least one non-missing value is needed for imputation with strategy='mean'.\n",
      "  warnings.warn(\n",
      "/Users/cyn/anaconda3/lib/python3.11/site-packages/sklearn/impute/_base.py:555: UserWarning: Skipping features without any observed values: ['penaltyYards']. At least one non-missing value is needed for imputation with strategy='mean'.\n",
      "  warnings.warn(\n",
      "/Users/cyn/anaconda3/lib/python3.11/site-packages/sklearn/impute/_base.py:555: UserWarning: Skipping features without any observed values: ['penaltyYards']. At least one non-missing value is needed for imputation with strategy='mean'.\n",
      "  warnings.warn(\n",
      "/Users/cyn/anaconda3/lib/python3.11/site-packages/sklearn/impute/_base.py:555: UserWarning: Skipping features without any observed values: ['penaltyYards']. At least one non-missing value is needed for imputation with strategy='mean'.\n",
      "  warnings.warn(\n",
      "/Users/cyn/anaconda3/lib/python3.11/site-packages/sklearn/impute/_base.py:555: UserWarning: Skipping features without any observed values: ['penaltyYards']. At least one non-missing value is needed for imputation with strategy='mean'.\n",
      "  warnings.warn(\n",
      "/Users/cyn/anaconda3/lib/python3.11/site-packages/sklearn/impute/_base.py:555: UserWarning: Skipping features without any observed values: ['penaltyYards']. At least one non-missing value is needed for imputation with strategy='mean'.\n",
      "  warnings.warn(\n",
      "/Users/cyn/anaconda3/lib/python3.11/site-packages/sklearn/impute/_base.py:555: UserWarning: Skipping features without any observed values: ['penaltyYards']. At least one non-missing value is needed for imputation with strategy='mean'.\n",
      "  warnings.warn(\n"
     ]
    }
   ],
   "source": [
    "playdelta = [i for i in range(10, -5, -1)]\n",
    "epa_delta = [predictions(['playResult'], [delta]) for delta in playdelta]"
   ]
  },
  {
   "cell_type": "code",
   "execution_count": 47,
   "id": "33c579a6",
   "metadata": {},
   "outputs": [
    {
     "data": {
      "text/plain": [
       "[0.914433547593048,\n",
       " 0.9295856142316591,\n",
       " 0.9312601130535585,\n",
       " 0.9335897261824632,\n",
       " 0.9344692792247867,\n",
       " 0.9385860351529622,\n",
       " 0.9471809519072142,\n",
       " 0.9588065290328716,\n",
       " 0.9636245821332129,\n",
       " 0.9831499823945669,\n",
       " 1.0,\n",
       " 1.0237370746095384,\n",
       " 1.0301608884605442,\n",
       " 1.036385774254256,\n",
       " 1.0456316132740535]"
      ]
     },
     "execution_count": 47,
     "metadata": {},
     "output_type": "execute_result"
    }
   ],
   "source": [
    "epa_delta"
   ]
  },
  {
   "cell_type": "markdown",
   "id": "904347b7",
   "metadata": {},
   "source": [
    "# Scenario 2:"
   ]
  },
  {
   "cell_type": "code",
   "execution_count": 44,
   "id": "4eb2374c",
   "metadata": {},
   "outputs": [
    {
     "name": "stdout",
     "output_type": "stream",
     "text": [
      "Shootgun: 0.8558623425188889\n",
      "Singleback 0.8519353775782085\n",
      "I Form: 0.8521415473016388\n",
      "Pistol: 0.8522180737490715\n",
      "Jumbo: 0.8521415473016388\n"
     ]
    },
    {
     "name": "stderr",
     "output_type": "stream",
     "text": [
      "/Users/cyn/anaconda3/lib/python3.11/site-packages/sklearn/impute/_base.py:555: UserWarning: Skipping features without any observed values: ['penaltyYards']. At least one non-missing value is needed for imputation with strategy='mean'.\n",
      "  warnings.warn(\n",
      "/Users/cyn/anaconda3/lib/python3.11/site-packages/sklearn/impute/_base.py:555: UserWarning: Skipping features without any observed values: ['penaltyYards']. At least one non-missing value is needed for imputation with strategy='mean'.\n",
      "  warnings.warn(\n",
      "/Users/cyn/anaconda3/lib/python3.11/site-packages/sklearn/impute/_base.py:555: UserWarning: Skipping features without any observed values: ['penaltyYards']. At least one non-missing value is needed for imputation with strategy='mean'.\n",
      "  warnings.warn(\n",
      "/Users/cyn/anaconda3/lib/python3.11/site-packages/sklearn/impute/_base.py:555: UserWarning: Skipping features without any observed values: ['penaltyYards']. At least one non-missing value is needed for imputation with strategy='mean'.\n",
      "  warnings.warn(\n",
      "/Users/cyn/anaconda3/lib/python3.11/site-packages/sklearn/impute/_base.py:555: UserWarning: Skipping features without any observed values: ['penaltyYards']. At least one non-missing value is needed for imputation with strategy='mean'.\n",
      "  warnings.warn(\n",
      "/Users/cyn/anaconda3/lib/python3.11/site-packages/sklearn/impute/_base.py:555: UserWarning: Skipping features without any observed values: ['penaltyYards']. At least one non-missing value is needed for imputation with strategy='mean'.\n",
      "  warnings.warn(\n",
      "/Users/cyn/anaconda3/lib/python3.11/site-packages/sklearn/impute/_base.py:555: UserWarning: Skipping features without any observed values: ['penaltyYards']. At least one non-missing value is needed for imputation with strategy='mean'.\n",
      "  warnings.warn(\n",
      "/Users/cyn/anaconda3/lib/python3.11/site-packages/sklearn/impute/_base.py:555: UserWarning: Skipping features without any observed values: ['penaltyYards']. At least one non-missing value is needed for imputation with strategy='mean'.\n",
      "  warnings.warn(\n",
      "/Users/cyn/anaconda3/lib/python3.11/site-packages/sklearn/impute/_base.py:555: UserWarning: Skipping features without any observed values: ['penaltyYards']. At least one non-missing value is needed for imputation with strategy='mean'.\n",
      "  warnings.warn(\n",
      "/Users/cyn/anaconda3/lib/python3.11/site-packages/sklearn/impute/_base.py:555: UserWarning: Skipping features without any observed values: ['penaltyYards']. At least one non-missing value is needed for imputation with strategy='mean'.\n",
      "  warnings.warn(\n"
     ]
    }
   ],
   "source": [
    "scenario2_shotgun = predictions(['offenseFormation_SHOTGUN', 'playResult', 'yardsToGo', 'down'], [1,4, 6, 2])\n",
    "\n",
    "print('Shootgun:', scenario2_shotgun)\n",
    "\n",
    "scenario2_singleback = predictions(['offenseFormation_SINGLEBACK', 'playResult', 'yardsToGo', 'down'], [1,4, 6, 2])\n",
    "\n",
    "print('Singleback', scenario2_singleback)\n",
    "\n",
    "\n",
    "scenario2_I_FORM = predictions(['offenseFormation_I_FORM', 'playResult', 'yardsToGo', 'down'], [1,4, 6, 2])\n",
    "\n",
    "print('I Form:',scenario2_I_FORM)\n",
    "\n",
    "\n",
    "scenario2_PISTOL = predictions(['offenseFormation_PISTOL', 'playResult', 'yardsToGo', 'down'], [1,4, 6, 2])\n",
    "print('Pistol:', scenario2_PISTOL)\n",
    "\n",
    "scenario2_JUMBO = predictions(['offenseFormation_JUMBO', 'playResult', 'yardsToGo', 'down'], [1,4, 6, 2])\n",
    "print('Jumbo:', scenario2_JUMBO)"
   ]
  },
  {
   "cell_type": "markdown",
   "id": "b3afb7b8",
   "metadata": {},
   "source": [
    "# Scenario 3:"
   ]
  },
  {
   "cell_type": "code",
   "execution_count": 43,
   "id": "531ce280",
   "metadata": {},
   "outputs": [
    {
     "name": "stdout",
     "output_type": "stream",
     "text": [
      "Shootgun: 0.6131623265558811\n",
      "Singleback 0.6111441202724303\n",
      "I Form: 0.6112502089786642\n",
      "Pistol: 0.611289583481916\n",
      "Jumbo: 0.6112502089786642\n"
     ]
    },
    {
     "name": "stderr",
     "output_type": "stream",
     "text": [
      "/Users/cyn/anaconda3/lib/python3.11/site-packages/sklearn/impute/_base.py:555: UserWarning: Skipping features without any observed values: ['penaltyYards']. At least one non-missing value is needed for imputation with strategy='mean'.\n",
      "  warnings.warn(\n",
      "/Users/cyn/anaconda3/lib/python3.11/site-packages/sklearn/impute/_base.py:555: UserWarning: Skipping features without any observed values: ['penaltyYards']. At least one non-missing value is needed for imputation with strategy='mean'.\n",
      "  warnings.warn(\n",
      "/Users/cyn/anaconda3/lib/python3.11/site-packages/sklearn/impute/_base.py:555: UserWarning: Skipping features without any observed values: ['penaltyYards']. At least one non-missing value is needed for imputation with strategy='mean'.\n",
      "  warnings.warn(\n",
      "/Users/cyn/anaconda3/lib/python3.11/site-packages/sklearn/impute/_base.py:555: UserWarning: Skipping features without any observed values: ['penaltyYards']. At least one non-missing value is needed for imputation with strategy='mean'.\n",
      "  warnings.warn(\n",
      "/Users/cyn/anaconda3/lib/python3.11/site-packages/sklearn/impute/_base.py:555: UserWarning: Skipping features without any observed values: ['penaltyYards']. At least one non-missing value is needed for imputation with strategy='mean'.\n",
      "  warnings.warn(\n",
      "/Users/cyn/anaconda3/lib/python3.11/site-packages/sklearn/impute/_base.py:555: UserWarning: Skipping features without any observed values: ['penaltyYards']. At least one non-missing value is needed for imputation with strategy='mean'.\n",
      "  warnings.warn(\n",
      "/Users/cyn/anaconda3/lib/python3.11/site-packages/sklearn/impute/_base.py:555: UserWarning: Skipping features without any observed values: ['penaltyYards']. At least one non-missing value is needed for imputation with strategy='mean'.\n",
      "  warnings.warn(\n",
      "/Users/cyn/anaconda3/lib/python3.11/site-packages/sklearn/impute/_base.py:555: UserWarning: Skipping features without any observed values: ['penaltyYards']. At least one non-missing value is needed for imputation with strategy='mean'.\n",
      "  warnings.warn(\n",
      "/Users/cyn/anaconda3/lib/python3.11/site-packages/sklearn/impute/_base.py:555: UserWarning: Skipping features without any observed values: ['penaltyYards']. At least one non-missing value is needed for imputation with strategy='mean'.\n",
      "  warnings.warn(\n",
      "/Users/cyn/anaconda3/lib/python3.11/site-packages/sklearn/impute/_base.py:555: UserWarning: Skipping features without any observed values: ['penaltyYards']. At least one non-missing value is needed for imputation with strategy='mean'.\n",
      "  warnings.warn(\n"
     ]
    }
   ],
   "source": [
    "scenario3_shotgun =predictions(['offenseFormation_SHOTGUN','playResult', 'yardsToGo', 'down', 'prePenaltyPlayResult'], [1, 14, 10, 1, 16])\n",
    "print('Shootgun:', scenario3_shotgun)\n",
    "\n",
    "scenario3_singleback = predictions(['offenseFormation_SINGLEBACK', 'playResult', 'yardsToGo', 'down', 'prePenaltyPlayResult'], [1, 14, 10, 1, 16])\n",
    "print('Singleback', scenario3_singleback)\n",
    "\n",
    "scenario3_I_FORM = predictions(['offenseFormation_I_FORM', 'playResult', 'yardsToGo', 'down', 'prePenaltyPlayResult'], [1, 14, 10, 1, 16])\n",
    "print('I Form:',scenario3_I_FORM)\n",
    "\n",
    "scenario3_PISTOL = predictions(['offenseFormation_PISTOL', 'playResult', 'yardsToGo', 'down', 'prePenaltyPlayResult'], [1, 14, 10, 1, 16])\n",
    "print('Pistol:', scenario3_PISTOL)\n",
    "\n",
    "scenario3_JUMBO = predictions(['offenseFormation_JUMBO', 'playResult', 'yardsToGo', 'down', 'prePenaltyPlayResult'], [1, 14, 10, 1, 16])\n",
    "print('Jumbo:', scenario3_JUMBO)"
   ]
  },
  {
   "cell_type": "code",
   "execution_count": null,
   "id": "513fe1a4",
   "metadata": {},
   "outputs": [],
   "source": []
  }
 ],
 "metadata": {
  "kernelspec": {
   "display_name": "Python 3 (ipykernel)",
   "language": "python",
   "name": "python3"
  },
  "language_info": {
   "codemirror_mode": {
    "name": "ipython",
    "version": 3
   },
   "file_extension": ".py",
   "mimetype": "text/x-python",
   "name": "python",
   "nbconvert_exporter": "python",
   "pygments_lexer": "ipython3",
   "version": "3.11.4"
  }
 },
 "nbformat": 4,
 "nbformat_minor": 5
}
