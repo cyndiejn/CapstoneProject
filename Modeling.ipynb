{
 "cells": [
  {
   "cell_type": "code",
   "execution_count": 49,
   "id": "cda625c1",
   "metadata": {},
   "outputs": [],
   "source": [
    "import pandas as pd\n",
    "import numpy as np\n",
    "import os\n",
    "import pickle\n",
    "import matplotlib.pyplot as plt\n",
    "import seaborn as sns\n",
    "from sklearn import __version__ as sklearn_version\n",
    "from sklearn.model_selection import cross_validate, cross_val_score"
   ]
  },
  {
   "cell_type": "code",
   "execution_count": 48,
   "id": "f60ae061",
   "metadata": {},
   "outputs": [],
   "source": [
    "import pandas as pd\n",
    "import numpy as np\n",
    "import os\n",
    "import pickle\n",
    "import matplotlib.pyplot as plt\n",
    "import seaborn as sns\n",
    "from sklearn import __version__ as sklearn_version\n",
    "from sklearn.decomposition import PCA\n",
    "from sklearn.preprocessing import scale\n",
    "from sklearn.model_selection import train_test_split, cross_validate, GridSearchCV, learning_curve\n",
    "from sklearn.preprocessing import StandardScaler, MinMaxScaler\n",
    "from sklearn.dummy import DummyRegressor\n",
    "from sklearn.linear_model import LinearRegression\n",
    "from sklearn.ensemble import RandomForestRegressor\n",
    "from sklearn.metrics import r2_score, mean_squared_error, mean_absolute_error, precision_recall_fscore_support\n",
    "from sklearn.pipeline import make_pipeline\n",
    "from sklearn.impute import SimpleImputer\n",
    "from sklearn.feature_selection import SelectKBest, f_regression\n",
    "import datetime\n",
    "from random import seed\n",
    "from datetime import datetime"
   ]
  },
  {
   "cell_type": "code",
   "execution_count": 62,
   "id": "0fd543e4",
   "metadata": {},
   "outputs": [
    {
     "name": "stdout",
     "output_type": "stream",
     "text": [
      "Expected model not found\n"
     ]
    }
   ],
   "source": [
    "expected_model_version = '1.0'\n",
    "model_path = '../models/ski_resort_pricing_model.pkl'\n",
    "if os.path.exists(model_path):\n",
    "    with open(model_path, 'rb') as f:\n",
    "        model = pickle.load(f)\n",
    "    if model.version != expected_model_version:\n",
    "        print(\"Expected model version doesn't match version loaded\")\n",
    "    if model.sklearn_version != sklearn_version:\n",
    "        print(\"Warning: model created under different sklearn version\")\n",
    "else:\n",
    "    print(\"Expected model not found\")"
   ]
  },
  {
   "cell_type": "markdown",
   "id": "a9f43d0c",
   "metadata": {},
   "source": [
    "# Loading data"
   ]
  },
  {
   "cell_type": "code",
   "execution_count": 3,
   "id": "dfb852cd",
   "metadata": {},
   "outputs": [],
   "source": [
    "games = pd.read_csv(\"/Users/cyn/Desktop/nfl-big-data-bowl-2024/games.csv\")\n",
    "players = pd.read_csv(\"/Users/cyn/Desktop/nfl-big-data-bowl-2024/players.csv\")\n",
    "plays = pd.read_csv(\"/Users/cyn/Desktop/nfl-big-data-bowl-2024/plays.csv\")\n",
    "tackles = pd.read_csv(\"/Users/cyn/Desktop/nfl-big-data-bowl-2024/tackles.csv\")\n",
    "week2 = pd.read_csv(\"/Users/cyn/Desktop/nfl-big-data-bowl-2024/tracking_week_2.csv\")"
   ]
  },
  {
   "cell_type": "code",
   "execution_count": 4,
   "id": "d5906211",
   "metadata": {},
   "outputs": [],
   "source": [
    "# Merging Data to get dataset\n",
    "\n",
    "dataset = week2.merge(players, on = ['nflId', 'displayName'], how = 'outer').merge(games, on = 'gameId' , how = 'outer').merge(tackles, on = ['gameId', 'nflId', 'playId'] , how = 'outer').merge(plays, left_on = ['gameId', 'playId', 'nflId'], right_on = ['gameId', 'playId', 'ballCarrierId'] , how = 'inner')"
   ]
  },
  {
   "cell_type": "code",
   "execution_count": 5,
   "id": "c052dfb2",
   "metadata": {},
   "outputs": [
    {
     "name": "stderr",
     "output_type": "stream",
     "text": [
      "/var/folders/1v/cty37wrs42196x0dzbz8j4jw0000gn/T/ipykernel_56025/1847695133.py:4: SettingWithCopyWarning: \n",
      "A value is trying to be set on a copy of a slice from a DataFrame\n",
      "\n",
      "See the caveats in the documentation: https://pandas.pydata.org/pandas-docs/stable/user_guide/indexing.html#returning-a-view-versus-a-copy\n",
      "  dataset.Foul[i] = 0\n",
      "/var/folders/1v/cty37wrs42196x0dzbz8j4jw0000gn/T/ipykernel_56025/1847695133.py:6: SettingWithCopyWarning: \n",
      "A value is trying to be set on a copy of a slice from a DataFrame\n",
      "\n",
      "See the caveats in the documentation: https://pandas.pydata.org/pandas-docs/stable/user_guide/indexing.html#returning-a-view-versus-a-copy\n",
      "  dataset.Foul[i] = 1\n"
     ]
    }
   ],
   "source": [
    "dataset['Foul'] = np.empty(len(dataset))\n",
    "for i in range(len(dataset)):\n",
    "    if pd.isna(dataset.foulNFLId1[i]) and pd.isna(dataset.foulNFLId2[i]):\n",
    "        dataset.Foul[i] = 0\n",
    "    else:\n",
    "        dataset.Foul[i] = 1"
   ]
  },
  {
   "cell_type": "code",
   "execution_count": 6,
   "id": "8d784109",
   "metadata": {},
   "outputs": [],
   "source": [
    "dataset = dataset.drop(axis = 1, columns = ['foulNFLId1', 'foulNFLId2']) #check column name or axis"
   ]
  },
  {
   "cell_type": "code",
   "execution_count": 7,
   "id": "1007118d",
   "metadata": {},
   "outputs": [],
   "source": [
    "seed(47)\n",
    "df = dataset.sample(500)"
   ]
  },
  {
   "cell_type": "code",
   "execution_count": 8,
   "id": "00ddc243",
   "metadata": {},
   "outputs": [],
   "source": [
    "df = pd.get_dummies(df, columns = ['height','tackle', 'assist','forcedFumble', 'pff_missedTackle', 'foulName1', 'passResult', 'offenseFormation','foulName2', 'playDirection'], drop_first = True)"
   ]
  },
  {
   "cell_type": "markdown",
   "id": "8fb848fb",
   "metadata": {},
   "source": [
    "# Train and Test Data"
   ]
  },
  {
   "cell_type": "code",
   "execution_count": 35,
   "id": "381e0dd1",
   "metadata": {},
   "outputs": [],
   "source": [
    "fb_data = df[df.club != 'BAL']"
   ]
  },
  {
   "cell_type": "code",
   "execution_count": 36,
   "id": "67ed35d1",
   "metadata": {},
   "outputs": [],
   "source": [
    "X_train, X_test, y_train, y_test = train_test_split(fb_data.drop(columns = 'expectedPointsAdded'), fb_data.expectedPointsAdded, test_size = .3, random_state = 47)"
   ]
  },
  {
   "cell_type": "code",
   "execution_count": 37,
   "id": "ddc10d23",
   "metadata": {},
   "outputs": [],
   "source": [
    "str_list = df.select_dtypes(include = object).columns\n",
    "id_train = X_train[str_list]\n",
    "id_test = X_test[str_list]\n",
    "X_train.drop(columns= str_list, inplace= True)\n",
    "X_test.drop(columns=str_list, inplace= True)"
   ]
  },
  {
   "cell_type": "markdown",
   "id": "842e5149",
   "metadata": {},
   "source": [
    "# Model"
   ]
  },
  {
   "cell_type": "code",
   "execution_count": 38,
   "id": "7e96e998",
   "metadata": {},
   "outputs": [],
   "source": [
    "RF_pipe = make_pipeline(\n",
    "    SimpleImputer(strategy= 'mean'),\n",
    "    StandardScaler(),\n",
    "    RandomForestRegressor(random_state= 47, n_estimators = 112)\n",
    ")"
   ]
  },
  {
   "cell_type": "code",
   "execution_count": null,
   "id": "9c8d88df",
   "metadata": {},
   "outputs": [],
   "source": []
  },
  {
   "cell_type": "markdown",
   "id": "c5ee007e",
   "metadata": {},
   "source": [
    "# Refitting Model"
   ]
  },
  {
   "cell_type": "markdown",
   "id": "ad630a9f",
   "metadata": {},
   "source": [
    "### Excluding Ravens"
   ]
  },
  {
   "cell_type": "code",
   "execution_count": 39,
   "id": "6fad4ac9",
   "metadata": {},
   "outputs": [
    {
     "name": "stderr",
     "output_type": "stream",
     "text": [
      "/var/folders/1v/cty37wrs42196x0dzbz8j4jw0000gn/T/ipykernel_56025/3328078858.py:3: SettingWithCopyWarning: \n",
      "A value is trying to be set on a copy of a slice from a DataFrame\n",
      "\n",
      "See the caveats in the documentation: https://pandas.pydata.org/pandas-docs/stable/user_guide/indexing.html#returning-a-view-versus-a-copy\n",
      "  X.drop(columns= str_list, inplace= True)\n"
     ]
    }
   ],
   "source": [
    "X = df[df['club'] != 'BAL']\n",
    "X.drop(columns = 'expectedPointsAdded')\n",
    "X.drop(columns= str_list, inplace= True)"
   ]
  },
  {
   "cell_type": "code",
   "execution_count": 40,
   "id": "a82f82e6",
   "metadata": {},
   "outputs": [
    {
     "data": {
      "text/html": [
       "<div>\n",
       "<style scoped>\n",
       "    .dataframe tbody tr th:only-of-type {\n",
       "        vertical-align: middle;\n",
       "    }\n",
       "\n",
       "    .dataframe tbody tr th {\n",
       "        vertical-align: top;\n",
       "    }\n",
       "\n",
       "    .dataframe thead th {\n",
       "        text-align: right;\n",
       "    }\n",
       "</style>\n",
       "<table border=\"1\" class=\"dataframe\">\n",
       "  <thead>\n",
       "    <tr style=\"text-align: right;\">\n",
       "      <th></th>\n",
       "      <th>gameId</th>\n",
       "      <th>playId</th>\n",
       "      <th>nflId</th>\n",
       "      <th>frameId</th>\n",
       "      <th>jerseyNumber</th>\n",
       "      <th>x</th>\n",
       "      <th>y</th>\n",
       "      <th>s</th>\n",
       "      <th>a</th>\n",
       "      <th>dis</th>\n",
       "      <th>...</th>\n",
       "      <th>foulName1_Offensive Holding</th>\n",
       "      <th>foulName1_Offensive Pass Interference</th>\n",
       "      <th>passResult_R</th>\n",
       "      <th>offenseFormation_I_FORM</th>\n",
       "      <th>offenseFormation_JUMBO</th>\n",
       "      <th>offenseFormation_PISTOL</th>\n",
       "      <th>offenseFormation_SHOTGUN</th>\n",
       "      <th>offenseFormation_SINGLEBACK</th>\n",
       "      <th>foulName2_Offensive Pass Interference</th>\n",
       "      <th>playDirection_right</th>\n",
       "    </tr>\n",
       "  </thead>\n",
       "  <tbody>\n",
       "    <tr>\n",
       "      <th>57098</th>\n",
       "      <td>2.022092e+09</td>\n",
       "      <td>3599.0</td>\n",
       "      <td>47836.0</td>\n",
       "      <td>14.0</td>\n",
       "      <td>26.0</td>\n",
       "      <td>48.84</td>\n",
       "      <td>22.39</td>\n",
       "      <td>3.34</td>\n",
       "      <td>3.56</td>\n",
       "      <td>0.32</td>\n",
       "      <td>...</td>\n",
       "      <td>0</td>\n",
       "      <td>0</td>\n",
       "      <td>0</td>\n",
       "      <td>0</td>\n",
       "      <td>0</td>\n",
       "      <td>0</td>\n",
       "      <td>1</td>\n",
       "      <td>0</td>\n",
       "      <td>0</td>\n",
       "      <td>1</td>\n",
       "    </tr>\n",
       "    <tr>\n",
       "      <th>44502</th>\n",
       "      <td>2.022092e+09</td>\n",
       "      <td>1649.0</td>\n",
       "      <td>47807.0</td>\n",
       "      <td>67.0</td>\n",
       "      <td>28.0</td>\n",
       "      <td>68.17</td>\n",
       "      <td>27.71</td>\n",
       "      <td>0.93</td>\n",
       "      <td>1.27</td>\n",
       "      <td>0.10</td>\n",
       "      <td>...</td>\n",
       "      <td>1</td>\n",
       "      <td>0</td>\n",
       "      <td>0</td>\n",
       "      <td>0</td>\n",
       "      <td>0</td>\n",
       "      <td>0</td>\n",
       "      <td>1</td>\n",
       "      <td>0</td>\n",
       "      <td>0</td>\n",
       "      <td>0</td>\n",
       "    </tr>\n",
       "    <tr>\n",
       "      <th>39265</th>\n",
       "      <td>2.022092e+09</td>\n",
       "      <td>3245.0</td>\n",
       "      <td>46094.0</td>\n",
       "      <td>12.0</td>\n",
       "      <td>88.0</td>\n",
       "      <td>67.71</td>\n",
       "      <td>4.11</td>\n",
       "      <td>5.29</td>\n",
       "      <td>1.57</td>\n",
       "      <td>0.54</td>\n",
       "      <td>...</td>\n",
       "      <td>0</td>\n",
       "      <td>0</td>\n",
       "      <td>0</td>\n",
       "      <td>0</td>\n",
       "      <td>0</td>\n",
       "      <td>0</td>\n",
       "      <td>0</td>\n",
       "      <td>1</td>\n",
       "      <td>0</td>\n",
       "      <td>1</td>\n",
       "    </tr>\n",
       "    <tr>\n",
       "      <th>15407</th>\n",
       "      <td>2.022092e+09</td>\n",
       "      <td>3419.0</td>\n",
       "      <td>43722.0</td>\n",
       "      <td>10.0</td>\n",
       "      <td>23.0</td>\n",
       "      <td>37.80</td>\n",
       "      <td>27.69</td>\n",
       "      <td>0.48</td>\n",
       "      <td>3.25</td>\n",
       "      <td>0.04</td>\n",
       "      <td>...</td>\n",
       "      <td>0</td>\n",
       "      <td>0</td>\n",
       "      <td>0</td>\n",
       "      <td>0</td>\n",
       "      <td>0</td>\n",
       "      <td>0</td>\n",
       "      <td>1</td>\n",
       "      <td>0</td>\n",
       "      <td>0</td>\n",
       "      <td>1</td>\n",
       "    </tr>\n",
       "    <tr>\n",
       "      <th>18225</th>\n",
       "      <td>2.022092e+09</td>\n",
       "      <td>2198.0</td>\n",
       "      <td>53430.0</td>\n",
       "      <td>31.0</td>\n",
       "      <td>16.0</td>\n",
       "      <td>83.37</td>\n",
       "      <td>18.11</td>\n",
       "      <td>7.03</td>\n",
       "      <td>2.37</td>\n",
       "      <td>0.69</td>\n",
       "      <td>...</td>\n",
       "      <td>0</td>\n",
       "      <td>0</td>\n",
       "      <td>0</td>\n",
       "      <td>0</td>\n",
       "      <td>0</td>\n",
       "      <td>0</td>\n",
       "      <td>1</td>\n",
       "      <td>0</td>\n",
       "      <td>0</td>\n",
       "      <td>0</td>\n",
       "    </tr>\n",
       "    <tr>\n",
       "      <th>...</th>\n",
       "      <td>...</td>\n",
       "      <td>...</td>\n",
       "      <td>...</td>\n",
       "      <td>...</td>\n",
       "      <td>...</td>\n",
       "      <td>...</td>\n",
       "      <td>...</td>\n",
       "      <td>...</td>\n",
       "      <td>...</td>\n",
       "      <td>...</td>\n",
       "      <td>...</td>\n",
       "      <td>...</td>\n",
       "      <td>...</td>\n",
       "      <td>...</td>\n",
       "      <td>...</td>\n",
       "      <td>...</td>\n",
       "      <td>...</td>\n",
       "      <td>...</td>\n",
       "      <td>...</td>\n",
       "      <td>...</td>\n",
       "      <td>...</td>\n",
       "    </tr>\n",
       "    <tr>\n",
       "      <th>21357</th>\n",
       "      <td>2.022092e+09</td>\n",
       "      <td>3018.0</td>\n",
       "      <td>44816.0</td>\n",
       "      <td>17.0</td>\n",
       "      <td>7.0</td>\n",
       "      <td>92.62</td>\n",
       "      <td>29.47</td>\n",
       "      <td>5.65</td>\n",
       "      <td>7.05</td>\n",
       "      <td>0.53</td>\n",
       "      <td>...</td>\n",
       "      <td>0</td>\n",
       "      <td>0</td>\n",
       "      <td>0</td>\n",
       "      <td>1</td>\n",
       "      <td>0</td>\n",
       "      <td>0</td>\n",
       "      <td>0</td>\n",
       "      <td>0</td>\n",
       "      <td>0</td>\n",
       "      <td>0</td>\n",
       "    </tr>\n",
       "    <tr>\n",
       "      <th>51877</th>\n",
       "      <td>2.022092e+09</td>\n",
       "      <td>2831.0</td>\n",
       "      <td>53440.0</td>\n",
       "      <td>9.0</td>\n",
       "      <td>1.0</td>\n",
       "      <td>99.25</td>\n",
       "      <td>20.31</td>\n",
       "      <td>5.15</td>\n",
       "      <td>0.78</td>\n",
       "      <td>0.51</td>\n",
       "      <td>...</td>\n",
       "      <td>0</td>\n",
       "      <td>0</td>\n",
       "      <td>1</td>\n",
       "      <td>0</td>\n",
       "      <td>0</td>\n",
       "      <td>0</td>\n",
       "      <td>1</td>\n",
       "      <td>0</td>\n",
       "      <td>0</td>\n",
       "      <td>1</td>\n",
       "    </tr>\n",
       "    <tr>\n",
       "      <th>49098</th>\n",
       "      <td>2.022092e+09</td>\n",
       "      <td>2328.0</td>\n",
       "      <td>44995.0</td>\n",
       "      <td>42.0</td>\n",
       "      <td>33.0</td>\n",
       "      <td>36.44</td>\n",
       "      <td>13.43</td>\n",
       "      <td>4.31</td>\n",
       "      <td>4.51</td>\n",
       "      <td>0.43</td>\n",
       "      <td>...</td>\n",
       "      <td>0</td>\n",
       "      <td>0</td>\n",
       "      <td>0</td>\n",
       "      <td>1</td>\n",
       "      <td>0</td>\n",
       "      <td>0</td>\n",
       "      <td>0</td>\n",
       "      <td>0</td>\n",
       "      <td>0</td>\n",
       "      <td>1</td>\n",
       "    </tr>\n",
       "    <tr>\n",
       "      <th>27346</th>\n",
       "      <td>2.022092e+09</td>\n",
       "      <td>3222.0</td>\n",
       "      <td>53453.0</td>\n",
       "      <td>17.0</td>\n",
       "      <td>22.0</td>\n",
       "      <td>15.47</td>\n",
       "      <td>25.31</td>\n",
       "      <td>5.00</td>\n",
       "      <td>3.38</td>\n",
       "      <td>0.48</td>\n",
       "      <td>...</td>\n",
       "      <td>0</td>\n",
       "      <td>0</td>\n",
       "      <td>0</td>\n",
       "      <td>0</td>\n",
       "      <td>0</td>\n",
       "      <td>0</td>\n",
       "      <td>0</td>\n",
       "      <td>1</td>\n",
       "      <td>0</td>\n",
       "      <td>1</td>\n",
       "    </tr>\n",
       "    <tr>\n",
       "      <th>10757</th>\n",
       "      <td>2.022092e+09</td>\n",
       "      <td>1024.0</td>\n",
       "      <td>53640.0</td>\n",
       "      <td>11.0</td>\n",
       "      <td>25.0</td>\n",
       "      <td>52.36</td>\n",
       "      <td>20.91</td>\n",
       "      <td>3.37</td>\n",
       "      <td>2.97</td>\n",
       "      <td>0.32</td>\n",
       "      <td>...</td>\n",
       "      <td>0</td>\n",
       "      <td>0</td>\n",
       "      <td>0</td>\n",
       "      <td>0</td>\n",
       "      <td>0</td>\n",
       "      <td>0</td>\n",
       "      <td>1</td>\n",
       "      <td>0</td>\n",
       "      <td>0</td>\n",
       "      <td>1</td>\n",
       "    </tr>\n",
       "  </tbody>\n",
       "</table>\n",
       "<p>485 rows × 63 columns</p>\n",
       "</div>"
      ],
      "text/plain": [
       "             gameId  playId    nflId  frameId  jerseyNumber      x      y  \\\n",
       "57098  2.022092e+09  3599.0  47836.0     14.0          26.0  48.84  22.39   \n",
       "44502  2.022092e+09  1649.0  47807.0     67.0          28.0  68.17  27.71   \n",
       "39265  2.022092e+09  3245.0  46094.0     12.0          88.0  67.71   4.11   \n",
       "15407  2.022092e+09  3419.0  43722.0     10.0          23.0  37.80  27.69   \n",
       "18225  2.022092e+09  2198.0  53430.0     31.0          16.0  83.37  18.11   \n",
       "...             ...     ...      ...      ...           ...    ...    ...   \n",
       "21357  2.022092e+09  3018.0  44816.0     17.0           7.0  92.62  29.47   \n",
       "51877  2.022092e+09  2831.0  53440.0      9.0           1.0  99.25  20.31   \n",
       "49098  2.022092e+09  2328.0  44995.0     42.0          33.0  36.44  13.43   \n",
       "27346  2.022092e+09  3222.0  53453.0     17.0          22.0  15.47  25.31   \n",
       "10757  2.022092e+09  1024.0  53640.0     11.0          25.0  52.36  20.91   \n",
       "\n",
       "          s     a   dis  ...  foulName1_Offensive Holding  \\\n",
       "57098  3.34  3.56  0.32  ...                            0   \n",
       "44502  0.93  1.27  0.10  ...                            1   \n",
       "39265  5.29  1.57  0.54  ...                            0   \n",
       "15407  0.48  3.25  0.04  ...                            0   \n",
       "18225  7.03  2.37  0.69  ...                            0   \n",
       "...     ...   ...   ...  ...                          ...   \n",
       "21357  5.65  7.05  0.53  ...                            0   \n",
       "51877  5.15  0.78  0.51  ...                            0   \n",
       "49098  4.31  4.51  0.43  ...                            0   \n",
       "27346  5.00  3.38  0.48  ...                            0   \n",
       "10757  3.37  2.97  0.32  ...                            0   \n",
       "\n",
       "       foulName1_Offensive Pass Interference  passResult_R  \\\n",
       "57098                                      0             0   \n",
       "44502                                      0             0   \n",
       "39265                                      0             0   \n",
       "15407                                      0             0   \n",
       "18225                                      0             0   \n",
       "...                                      ...           ...   \n",
       "21357                                      0             0   \n",
       "51877                                      0             1   \n",
       "49098                                      0             0   \n",
       "27346                                      0             0   \n",
       "10757                                      0             0   \n",
       "\n",
       "       offenseFormation_I_FORM  offenseFormation_JUMBO  \\\n",
       "57098                        0                       0   \n",
       "44502                        0                       0   \n",
       "39265                        0                       0   \n",
       "15407                        0                       0   \n",
       "18225                        0                       0   \n",
       "...                        ...                     ...   \n",
       "21357                        1                       0   \n",
       "51877                        0                       0   \n",
       "49098                        1                       0   \n",
       "27346                        0                       0   \n",
       "10757                        0                       0   \n",
       "\n",
       "       offenseFormation_PISTOL  offenseFormation_SHOTGUN  \\\n",
       "57098                        0                         1   \n",
       "44502                        0                         1   \n",
       "39265                        0                         0   \n",
       "15407                        0                         1   \n",
       "18225                        0                         1   \n",
       "...                        ...                       ...   \n",
       "21357                        0                         0   \n",
       "51877                        0                         1   \n",
       "49098                        0                         0   \n",
       "27346                        0                         0   \n",
       "10757                        0                         1   \n",
       "\n",
       "       offenseFormation_SINGLEBACK  foulName2_Offensive Pass Interference  \\\n",
       "57098                            0                                      0   \n",
       "44502                            0                                      0   \n",
       "39265                            1                                      0   \n",
       "15407                            0                                      0   \n",
       "18225                            0                                      0   \n",
       "...                            ...                                    ...   \n",
       "21357                            0                                      0   \n",
       "51877                            0                                      0   \n",
       "49098                            0                                      0   \n",
       "27346                            1                                      0   \n",
       "10757                            0                                      0   \n",
       "\n",
       "       playDirection_right  \n",
       "57098                    1  \n",
       "44502                    0  \n",
       "39265                    1  \n",
       "15407                    1  \n",
       "18225                    0  \n",
       "...                    ...  \n",
       "21357                    0  \n",
       "51877                    1  \n",
       "49098                    1  \n",
       "27346                    1  \n",
       "10757                    1  \n",
       "\n",
       "[485 rows x 63 columns]"
      ]
     },
     "execution_count": 40,
     "metadata": {},
     "output_type": "execute_result"
    }
   ],
   "source": [
    "X"
   ]
  },
  {
   "cell_type": "code",
   "execution_count": 41,
   "id": "5d2e74fd",
   "metadata": {},
   "outputs": [],
   "source": [
    "y = df[df['club'] != 'BAL']\n",
    "y = y['expectedPointsAdded']"
   ]
  },
  {
   "cell_type": "code",
   "execution_count": null,
   "id": "6d6c93b8",
   "metadata": {},
   "outputs": [],
   "source": []
  },
  {
   "cell_type": "code",
   "execution_count": 42,
   "id": "9c24ff9b",
   "metadata": {},
   "outputs": [
    {
     "data": {
      "text/plain": [
       "((485, 63), (485,))"
      ]
     },
     "execution_count": 42,
     "metadata": {},
     "output_type": "execute_result"
    }
   ],
   "source": [
    "X.shape, y.shape"
   ]
  },
  {
   "cell_type": "code",
   "execution_count": 43,
   "id": "4801aaf5",
   "metadata": {},
   "outputs": [
    {
     "data": {
      "text/html": [
       "<style>#sk-container-id-2 {color: black;}#sk-container-id-2 pre{padding: 0;}#sk-container-id-2 div.sk-toggleable {background-color: white;}#sk-container-id-2 label.sk-toggleable__label {cursor: pointer;display: block;width: 100%;margin-bottom: 0;padding: 0.3em;box-sizing: border-box;text-align: center;}#sk-container-id-2 label.sk-toggleable__label-arrow:before {content: \"▸\";float: left;margin-right: 0.25em;color: #696969;}#sk-container-id-2 label.sk-toggleable__label-arrow:hover:before {color: black;}#sk-container-id-2 div.sk-estimator:hover label.sk-toggleable__label-arrow:before {color: black;}#sk-container-id-2 div.sk-toggleable__content {max-height: 0;max-width: 0;overflow: hidden;text-align: left;background-color: #f0f8ff;}#sk-container-id-2 div.sk-toggleable__content pre {margin: 0.2em;color: black;border-radius: 0.25em;background-color: #f0f8ff;}#sk-container-id-2 input.sk-toggleable__control:checked~div.sk-toggleable__content {max-height: 200px;max-width: 100%;overflow: auto;}#sk-container-id-2 input.sk-toggleable__control:checked~label.sk-toggleable__label-arrow:before {content: \"▾\";}#sk-container-id-2 div.sk-estimator input.sk-toggleable__control:checked~label.sk-toggleable__label {background-color: #d4ebff;}#sk-container-id-2 div.sk-label input.sk-toggleable__control:checked~label.sk-toggleable__label {background-color: #d4ebff;}#sk-container-id-2 input.sk-hidden--visually {border: 0;clip: rect(1px 1px 1px 1px);clip: rect(1px, 1px, 1px, 1px);height: 1px;margin: -1px;overflow: hidden;padding: 0;position: absolute;width: 1px;}#sk-container-id-2 div.sk-estimator {font-family: monospace;background-color: #f0f8ff;border: 1px dotted black;border-radius: 0.25em;box-sizing: border-box;margin-bottom: 0.5em;}#sk-container-id-2 div.sk-estimator:hover {background-color: #d4ebff;}#sk-container-id-2 div.sk-parallel-item::after {content: \"\";width: 100%;border-bottom: 1px solid gray;flex-grow: 1;}#sk-container-id-2 div.sk-label:hover label.sk-toggleable__label {background-color: #d4ebff;}#sk-container-id-2 div.sk-serial::before {content: \"\";position: absolute;border-left: 1px solid gray;box-sizing: border-box;top: 0;bottom: 0;left: 50%;z-index: 0;}#sk-container-id-2 div.sk-serial {display: flex;flex-direction: column;align-items: center;background-color: white;padding-right: 0.2em;padding-left: 0.2em;position: relative;}#sk-container-id-2 div.sk-item {position: relative;z-index: 1;}#sk-container-id-2 div.sk-parallel {display: flex;align-items: stretch;justify-content: center;background-color: white;position: relative;}#sk-container-id-2 div.sk-item::before, #sk-container-id-2 div.sk-parallel-item::before {content: \"\";position: absolute;border-left: 1px solid gray;box-sizing: border-box;top: 0;bottom: 0;left: 50%;z-index: -1;}#sk-container-id-2 div.sk-parallel-item {display: flex;flex-direction: column;z-index: 1;position: relative;background-color: white;}#sk-container-id-2 div.sk-parallel-item:first-child::after {align-self: flex-end;width: 50%;}#sk-container-id-2 div.sk-parallel-item:last-child::after {align-self: flex-start;width: 50%;}#sk-container-id-2 div.sk-parallel-item:only-child::after {width: 0;}#sk-container-id-2 div.sk-dashed-wrapped {border: 1px dashed gray;margin: 0 0.4em 0.5em 0.4em;box-sizing: border-box;padding-bottom: 0.4em;background-color: white;}#sk-container-id-2 div.sk-label label {font-family: monospace;font-weight: bold;display: inline-block;line-height: 1.2em;}#sk-container-id-2 div.sk-label-container {text-align: center;}#sk-container-id-2 div.sk-container {/* jupyter's `normalize.less` sets `[hidden] { display: none; }` but bootstrap.min.css set `[hidden] { display: none !important; }` so we also need the `!important` here to be able to override the default hidden behavior on the sphinx rendered scikit-learn.org. See: https://github.com/scikit-learn/scikit-learn/issues/21755 */display: inline-block !important;position: relative;}#sk-container-id-2 div.sk-text-repr-fallback {display: none;}</style><div id=\"sk-container-id-2\" class=\"sk-top-container\"><div class=\"sk-text-repr-fallback\"><pre>Pipeline(steps=[(&#x27;simpleimputer&#x27;, SimpleImputer()),\n",
       "                (&#x27;standardscaler&#x27;, StandardScaler()),\n",
       "                (&#x27;randomforestregressor&#x27;,\n",
       "                 RandomForestRegressor(n_estimators=112, random_state=47))])</pre><b>In a Jupyter environment, please rerun this cell to show the HTML representation or trust the notebook. <br />On GitHub, the HTML representation is unable to render, please try loading this page with nbviewer.org.</b></div><div class=\"sk-container\" hidden><div class=\"sk-item sk-dashed-wrapped\"><div class=\"sk-label-container\"><div class=\"sk-label sk-toggleable\"><input class=\"sk-toggleable__control sk-hidden--visually\" id=\"sk-estimator-id-5\" type=\"checkbox\" ><label for=\"sk-estimator-id-5\" class=\"sk-toggleable__label sk-toggleable__label-arrow\">Pipeline</label><div class=\"sk-toggleable__content\"><pre>Pipeline(steps=[(&#x27;simpleimputer&#x27;, SimpleImputer()),\n",
       "                (&#x27;standardscaler&#x27;, StandardScaler()),\n",
       "                (&#x27;randomforestregressor&#x27;,\n",
       "                 RandomForestRegressor(n_estimators=112, random_state=47))])</pre></div></div></div><div class=\"sk-serial\"><div class=\"sk-item\"><div class=\"sk-estimator sk-toggleable\"><input class=\"sk-toggleable__control sk-hidden--visually\" id=\"sk-estimator-id-6\" type=\"checkbox\" ><label for=\"sk-estimator-id-6\" class=\"sk-toggleable__label sk-toggleable__label-arrow\">SimpleImputer</label><div class=\"sk-toggleable__content\"><pre>SimpleImputer()</pre></div></div></div><div class=\"sk-item\"><div class=\"sk-estimator sk-toggleable\"><input class=\"sk-toggleable__control sk-hidden--visually\" id=\"sk-estimator-id-7\" type=\"checkbox\" ><label for=\"sk-estimator-id-7\" class=\"sk-toggleable__label sk-toggleable__label-arrow\">StandardScaler</label><div class=\"sk-toggleable__content\"><pre>StandardScaler()</pre></div></div></div><div class=\"sk-item\"><div class=\"sk-estimator sk-toggleable\"><input class=\"sk-toggleable__control sk-hidden--visually\" id=\"sk-estimator-id-8\" type=\"checkbox\" ><label for=\"sk-estimator-id-8\" class=\"sk-toggleable__label sk-toggleable__label-arrow\">RandomForestRegressor</label><div class=\"sk-toggleable__content\"><pre>RandomForestRegressor(n_estimators=112, random_state=47)</pre></div></div></div></div></div></div></div>"
      ],
      "text/plain": [
       "Pipeline(steps=[('simpleimputer', SimpleImputer()),\n",
       "                ('standardscaler', StandardScaler()),\n",
       "                ('randomforestregressor',\n",
       "                 RandomForestRegressor(n_estimators=112, random_state=47))])"
      ]
     },
     "execution_count": 43,
     "metadata": {},
     "output_type": "execute_result"
    }
   ],
   "source": [
    "RF_pipe.fit(X, y)"
   ]
  },
  {
   "cell_type": "code",
   "execution_count": 53,
   "id": "2c5c6c35",
   "metadata": {},
   "outputs": [],
   "source": [
    "cv_results = cross_validate(RF_pipe, X, y, scoring='neg_mean_absolute_error', cv=5, n_jobs=-1)"
   ]
  },
  {
   "cell_type": "code",
   "execution_count": 54,
   "id": "8f5b0223",
   "metadata": {},
   "outputs": [
    {
     "data": {
      "text/plain": [
       "array([-0.02361815, -0.03483306, -0.04885574, -0.02940085, -0.01564097])"
      ]
     },
     "execution_count": 54,
     "metadata": {},
     "output_type": "execute_result"
    }
   ],
   "source": [
    "cv_results['test_score']"
   ]
  },
  {
   "cell_type": "code",
   "execution_count": 55,
   "id": "ef953667",
   "metadata": {},
   "outputs": [
    {
     "data": {
      "text/plain": [
       "(0.030469754837831348, 0.011180899872474514)"
      ]
     },
     "execution_count": 55,
     "metadata": {},
     "output_type": "execute_result"
    }
   ],
   "source": [
    "mae_mean, mae_std = np.mean(-1 * cv_results['test_score']), np.std(-1 * cv_results['test_score'])\n",
    "mae_mean, mae_std"
   ]
  },
  {
   "cell_type": "markdown",
   "id": "a8303b37",
   "metadata": {},
   "source": [
    "### Only Ravens"
   ]
  },
  {
   "cell_type": "code",
   "execution_count": 57,
   "id": "d4d00a30",
   "metadata": {},
   "outputs": [],
   "source": [
    "rav = df[df['club'] == 'BAL']"
   ]
  },
  {
   "cell_type": "code",
   "execution_count": 58,
   "id": "1d4d66a6",
   "metadata": {},
   "outputs": [
    {
     "name": "stderr",
     "output_type": "stream",
     "text": [
      "/var/folders/1v/cty37wrs42196x0dzbz8j4jw0000gn/T/ipykernel_56025/1383529358.py:3: SettingWithCopyWarning: \n",
      "A value is trying to be set on a copy of a slice from a DataFrame\n",
      "\n",
      "See the caveats in the documentation: https://pandas.pydata.org/pandas-docs/stable/user_guide/indexing.html#returning-a-view-versus-a-copy\n",
      "  X_rav.drop(columns= str_list, inplace= True)\n"
     ]
    }
   ],
   "source": [
    "X_rav = df[df['club'] == 'BAL']\n",
    "X_rav.drop(columns = 'expectedPointsAdded')\n",
    "X_rav.drop(columns= str_list, inplace= True)"
   ]
  },
  {
   "cell_type": "code",
   "execution_count": 59,
   "id": "247979ca",
   "metadata": {},
   "outputs": [],
   "source": [
    "y_rav = df[df['club'] == 'BAL']\n",
    "y_rav = y_rav['expectedPointsAdded']"
   ]
  },
  {
   "cell_type": "code",
   "execution_count": 60,
   "id": "d2ebfecf",
   "metadata": {},
   "outputs": [
    {
     "data": {
      "text/plain": [
       "((15, 63), (15,))"
      ]
     },
     "execution_count": 60,
     "metadata": {},
     "output_type": "execute_result"
    }
   ],
   "source": [
    "X_rav.shape, y_rav.shape"
   ]
  },
  {
   "cell_type": "code",
   "execution_count": 56,
   "id": "fff280b1",
   "metadata": {},
   "outputs": [
    {
     "name": "stderr",
     "output_type": "stream",
     "text": [
      "/Users/cyn/anaconda3/lib/python3.11/site-packages/sklearn/impute/_base.py:555: UserWarning: Skipping features without any observed values: ['penaltyYards']. At least one non-missing value is needed for imputation with strategy='mean'.\n",
      "  warnings.warn(\n"
     ]
    },
    {
     "data": {
      "text/html": [
       "<style>#sk-container-id-3 {color: black;}#sk-container-id-3 pre{padding: 0;}#sk-container-id-3 div.sk-toggleable {background-color: white;}#sk-container-id-3 label.sk-toggleable__label {cursor: pointer;display: block;width: 100%;margin-bottom: 0;padding: 0.3em;box-sizing: border-box;text-align: center;}#sk-container-id-3 label.sk-toggleable__label-arrow:before {content: \"▸\";float: left;margin-right: 0.25em;color: #696969;}#sk-container-id-3 label.sk-toggleable__label-arrow:hover:before {color: black;}#sk-container-id-3 div.sk-estimator:hover label.sk-toggleable__label-arrow:before {color: black;}#sk-container-id-3 div.sk-toggleable__content {max-height: 0;max-width: 0;overflow: hidden;text-align: left;background-color: #f0f8ff;}#sk-container-id-3 div.sk-toggleable__content pre {margin: 0.2em;color: black;border-radius: 0.25em;background-color: #f0f8ff;}#sk-container-id-3 input.sk-toggleable__control:checked~div.sk-toggleable__content {max-height: 200px;max-width: 100%;overflow: auto;}#sk-container-id-3 input.sk-toggleable__control:checked~label.sk-toggleable__label-arrow:before {content: \"▾\";}#sk-container-id-3 div.sk-estimator input.sk-toggleable__control:checked~label.sk-toggleable__label {background-color: #d4ebff;}#sk-container-id-3 div.sk-label input.sk-toggleable__control:checked~label.sk-toggleable__label {background-color: #d4ebff;}#sk-container-id-3 input.sk-hidden--visually {border: 0;clip: rect(1px 1px 1px 1px);clip: rect(1px, 1px, 1px, 1px);height: 1px;margin: -1px;overflow: hidden;padding: 0;position: absolute;width: 1px;}#sk-container-id-3 div.sk-estimator {font-family: monospace;background-color: #f0f8ff;border: 1px dotted black;border-radius: 0.25em;box-sizing: border-box;margin-bottom: 0.5em;}#sk-container-id-3 div.sk-estimator:hover {background-color: #d4ebff;}#sk-container-id-3 div.sk-parallel-item::after {content: \"\";width: 100%;border-bottom: 1px solid gray;flex-grow: 1;}#sk-container-id-3 div.sk-label:hover label.sk-toggleable__label {background-color: #d4ebff;}#sk-container-id-3 div.sk-serial::before {content: \"\";position: absolute;border-left: 1px solid gray;box-sizing: border-box;top: 0;bottom: 0;left: 50%;z-index: 0;}#sk-container-id-3 div.sk-serial {display: flex;flex-direction: column;align-items: center;background-color: white;padding-right: 0.2em;padding-left: 0.2em;position: relative;}#sk-container-id-3 div.sk-item {position: relative;z-index: 1;}#sk-container-id-3 div.sk-parallel {display: flex;align-items: stretch;justify-content: center;background-color: white;position: relative;}#sk-container-id-3 div.sk-item::before, #sk-container-id-3 div.sk-parallel-item::before {content: \"\";position: absolute;border-left: 1px solid gray;box-sizing: border-box;top: 0;bottom: 0;left: 50%;z-index: -1;}#sk-container-id-3 div.sk-parallel-item {display: flex;flex-direction: column;z-index: 1;position: relative;background-color: white;}#sk-container-id-3 div.sk-parallel-item:first-child::after {align-self: flex-end;width: 50%;}#sk-container-id-3 div.sk-parallel-item:last-child::after {align-self: flex-start;width: 50%;}#sk-container-id-3 div.sk-parallel-item:only-child::after {width: 0;}#sk-container-id-3 div.sk-dashed-wrapped {border: 1px dashed gray;margin: 0 0.4em 0.5em 0.4em;box-sizing: border-box;padding-bottom: 0.4em;background-color: white;}#sk-container-id-3 div.sk-label label {font-family: monospace;font-weight: bold;display: inline-block;line-height: 1.2em;}#sk-container-id-3 div.sk-label-container {text-align: center;}#sk-container-id-3 div.sk-container {/* jupyter's `normalize.less` sets `[hidden] { display: none; }` but bootstrap.min.css set `[hidden] { display: none !important; }` so we also need the `!important` here to be able to override the default hidden behavior on the sphinx rendered scikit-learn.org. See: https://github.com/scikit-learn/scikit-learn/issues/21755 */display: inline-block !important;position: relative;}#sk-container-id-3 div.sk-text-repr-fallback {display: none;}</style><div id=\"sk-container-id-3\" class=\"sk-top-container\"><div class=\"sk-text-repr-fallback\"><pre>Pipeline(steps=[(&#x27;simpleimputer&#x27;, SimpleImputer()),\n",
       "                (&#x27;standardscaler&#x27;, StandardScaler()),\n",
       "                (&#x27;randomforestregressor&#x27;,\n",
       "                 RandomForestRegressor(n_estimators=112, random_state=47))])</pre><b>In a Jupyter environment, please rerun this cell to show the HTML representation or trust the notebook. <br />On GitHub, the HTML representation is unable to render, please try loading this page with nbviewer.org.</b></div><div class=\"sk-container\" hidden><div class=\"sk-item sk-dashed-wrapped\"><div class=\"sk-label-container\"><div class=\"sk-label sk-toggleable\"><input class=\"sk-toggleable__control sk-hidden--visually\" id=\"sk-estimator-id-9\" type=\"checkbox\" ><label for=\"sk-estimator-id-9\" class=\"sk-toggleable__label sk-toggleable__label-arrow\">Pipeline</label><div class=\"sk-toggleable__content\"><pre>Pipeline(steps=[(&#x27;simpleimputer&#x27;, SimpleImputer()),\n",
       "                (&#x27;standardscaler&#x27;, StandardScaler()),\n",
       "                (&#x27;randomforestregressor&#x27;,\n",
       "                 RandomForestRegressor(n_estimators=112, random_state=47))])</pre></div></div></div><div class=\"sk-serial\"><div class=\"sk-item\"><div class=\"sk-estimator sk-toggleable\"><input class=\"sk-toggleable__control sk-hidden--visually\" id=\"sk-estimator-id-10\" type=\"checkbox\" ><label for=\"sk-estimator-id-10\" class=\"sk-toggleable__label sk-toggleable__label-arrow\">SimpleImputer</label><div class=\"sk-toggleable__content\"><pre>SimpleImputer()</pre></div></div></div><div class=\"sk-item\"><div class=\"sk-estimator sk-toggleable\"><input class=\"sk-toggleable__control sk-hidden--visually\" id=\"sk-estimator-id-11\" type=\"checkbox\" ><label for=\"sk-estimator-id-11\" class=\"sk-toggleable__label sk-toggleable__label-arrow\">StandardScaler</label><div class=\"sk-toggleable__content\"><pre>StandardScaler()</pre></div></div></div><div class=\"sk-item\"><div class=\"sk-estimator sk-toggleable\"><input class=\"sk-toggleable__control sk-hidden--visually\" id=\"sk-estimator-id-12\" type=\"checkbox\" ><label for=\"sk-estimator-id-12\" class=\"sk-toggleable__label sk-toggleable__label-arrow\">RandomForestRegressor</label><div class=\"sk-toggleable__content\"><pre>RandomForestRegressor(n_estimators=112, random_state=47)</pre></div></div></div></div></div></div></div>"
      ],
      "text/plain": [
       "Pipeline(steps=[('simpleimputer', SimpleImputer()),\n",
       "                ('standardscaler', StandardScaler()),\n",
       "                ('randomforestregressor',\n",
       "                 RandomForestRegressor(n_estimators=112, random_state=47))])"
      ]
     },
     "execution_count": 56,
     "metadata": {},
     "output_type": "execute_result"
    }
   ],
   "source": [
    "RF_pipe.fit(X_rav, y_rav)"
   ]
  },
  {
   "cell_type": "code",
   "execution_count": 66,
   "id": "3757de78",
   "metadata": {},
   "outputs": [
    {
     "name": "stderr",
     "output_type": "stream",
     "text": [
      "/Users/cyn/anaconda3/lib/python3.11/site-packages/sklearn/impute/_base.py:555: UserWarning: Skipping features without any observed values: ['penaltyYards']. At least one non-missing value is needed for imputation with strategy='mean'.\n",
      "  warnings.warn(\n"
     ]
    },
    {
     "data": {
      "text/plain": [
       "array([ 6.77203125,  0.70133992, -0.28516255,  6.64878092,  1.33095322,\n",
       "       -0.55872329,  0.28912152,  2.7055247 , -1.11006845, -0.56655348,\n",
       "        0.74911378,  2.59574973, -1.03371989,  5.23391951, -0.55782563])"
      ]
     },
     "execution_count": 66,
     "metadata": {},
     "output_type": "execute_result"
    }
   ],
   "source": [
    "y_pred = RF_pipe.predict(X_rav)\n",
    "y_pred"
   ]
  },
  {
   "cell_type": "code",
   "execution_count": 71,
   "id": "1762e02e",
   "metadata": {},
   "outputs": [
    {
     "name": "stdout",
     "output_type": "stream",
     "text": [
      "The Raven modelled average expected points added is 1.53 points, while the average expected points added is 1.51 points.\n",
      "The expected mean absolute error is 0.03, That there is room for them to increase their average expected points added.\n"
     ]
    }
   ],
   "source": [
    "print(f'The Raven modelled average expected points added is {np.mean(y_pred):.2f} points, while the average expected points added is {np.mean(y_rav):.2f} points.')\n",
    "print(f'The expected mean absolute error is {mae_mean:.2f}, That there is room for them to increase their average expected points added.')"
   ]
  },
  {
   "cell_type": "markdown",
   "id": "65e7ab97",
   "metadata": {},
   "source": [
    "## Plots"
   ]
  },
  {
   "cell_type": "code",
   "execution_count": 94,
   "id": "d04abc2f",
   "metadata": {},
   "outputs": [],
   "source": [
    "def plot_compare(feat_name, description, club=None, figsize=(10, 5)):\n",
    "    plt.subplots(figsize=figsize)\n",
    "    if club is None:\n",
    "        df_x = df[feat_name]\n",
    "    else:\n",
    "        df_x = df.loc[df.club == club, feat_name]\n",
    "    df_x = df_x[np.isfinite(df_x)]\n",
    "    plt.hist(df_x, bins=30)\n",
    "    plt.axvline(x=np.mean(rav[feat_name]), c= 'r', ls= '--', alpha=0.8, label= 'Ravens')\n",
    "    plt.xlabel(description)\n",
    "    plt.ylabel('frequency')\n",
    "    plt.title(description + ' distribution for resorts in market share')\n",
    "    plt.legend()"
   ]
  },
  {
   "cell_type": "markdown",
   "id": "cc4a92aa",
   "metadata": {},
   "source": [
    "### Expected Points Added"
   ]
  },
  {
   "cell_type": "code",
   "execution_count": 97,
   "id": "110b61c2",
   "metadata": {},
   "outputs": [
    {
     "data": {
      "image/png": "[encoded data removed]",
      "text/plain": [
       "<Figure size 1000x500 with 1 Axes>"
      ]
     },
     "metadata": {},
     "output_type": "display_data"
    }
   ],
   "source": [
    "plot_compare('expectedPointsAdded', 'The expected points added from each play')"
   ]
  },
  {
   "cell_type": "code",
   "execution_count": null,
   "id": "0dc95fd4",
   "metadata": {},
   "outputs": [],
   "source": []
  },
  {
   "cell_type": "code",
   "execution_count": 98,
   "id": "c3b59042",
   "metadata": {},
   "outputs": [
    {
     "data": {
      "image/png": "[encoded data removed]",
      "text/plain": [
       "<Figure size 1000x500 with 1 Axes>"
      ]
     },
     "metadata": {},
     "output_type": "display_data"
    }
   ],
   "source": [
    "plot_compare('expectedPointsAdded', 'The expected points added from each play', club = 'MIA')"
   ]
  },
  {
   "cell_type": "code",
   "execution_count": null,
   "id": "bf4be30d",
   "metadata": {},
   "outputs": [],
   "source": []
  },
  {
   "cell_type": "markdown",
   "id": "a7f246c6",
   "metadata": {},
   "source": [
    "### Play Result"
   ]
  },
  {
   "cell_type": "code",
   "execution_count": 99,
   "id": "1323efc8",
   "metadata": {},
   "outputs": [
    {
     "data": {
      "image/png": "[encoded data removed]",
      "text/plain": [
       "<Figure size 1000x500 with 1 Axes>"
      ]
     },
     "metadata": {},
     "output_type": "display_data"
    }
   ],
   "source": [
    "plot_compare('playResult', 'The net yards gained by offense')"
   ]
  },
  {
   "cell_type": "code",
   "execution_count": null,
   "id": "5cfb204b",
   "metadata": {},
   "outputs": [],
   "source": []
  },
  {
   "cell_type": "markdown",
   "id": "a1c56b27",
   "metadata": {},
   "source": [
    "### Pre Penalty Play Result"
   ]
  },
  {
   "cell_type": "code",
   "execution_count": 100,
   "id": "6c1c9ce1",
   "metadata": {},
   "outputs": [
    {
     "data": {
      "image/png": "[encoded data removed]",
      "text/plain": [
       "<Figure size 1000x500 with 1 Axes>"
      ]
     },
     "metadata": {},
     "output_type": "display_data"
    }
   ],
   "source": [
    "plot_compare('prePenaltyPlayResult', 'The net yards gained by offense before any penalty')"
   ]
  },
  {
   "cell_type": "code",
   "execution_count": null,
   "id": "4a94240b",
   "metadata": {},
   "outputs": [],
   "source": []
  },
  {
   "cell_type": "markdown",
   "id": "817ad1b8",
   "metadata": {},
   "source": [
    "### Yards To Go"
   ]
  },
  {
   "cell_type": "code",
   "execution_count": 101,
   "id": "e44bcfba",
   "metadata": {},
   "outputs": [
    {
     "data": {
      "image/png": "[encoded data removed]",
      "text/plain": [
       "<Figure size 1000x500 with 1 Axes>"
      ]
     },
     "metadata": {},
     "output_type": "display_data"
    }
   ],
   "source": [
    "plot_compare('yardsToGo', 'Yards left before a first down')"
   ]
  },
  {
   "cell_type": "code",
   "execution_count": null,
   "id": "c6532ec0",
   "metadata": {},
   "outputs": [],
   "source": []
  },
  {
   "cell_type": "markdown",
   "id": "4e9a9ddf",
   "metadata": {},
   "source": [
    "### Down"
   ]
  },
  {
   "cell_type": "code",
   "execution_count": 102,
   "id": "9520e9c2",
   "metadata": {},
   "outputs": [
    {
     "data": {
      "image/png": "[encoded data removed]",
      "text/plain": [
       "<Figure size 1000x500 with 1 Axes>"
      ]
     },
     "metadata": {},
     "output_type": "display_data"
    }
   ],
   "source": [
    "plot_compare('down', \"The number of down the team is at\")"
   ]
  },
  {
   "cell_type": "code",
   "execution_count": null,
   "id": "7bff8aa5",
   "metadata": {},
   "outputs": [],
   "source": []
  },
  {
   "cell_type": "markdown",
   "id": "2fdcec3d",
   "metadata": {},
   "source": [
    "# Model Scenarios"
   ]
  },
  {
   "cell_type": "markdown",
   "id": "87427b2e",
   "metadata": {},
   "source": [
    "Lets say we want to bring the expected points added for each play up to a 2."
   ]
  },
  {
   "cell_type": "code",
   "execution_count": 198,
   "id": "cf4f36df",
   "metadata": {},
   "outputs": [],
   "source": [
    "feats = ['playResult', 'prePenaltyPlayResult', 'yardsToGo', 'down']"
   ]
  },
  {
   "cell_type": "code",
   "execution_count": 199,
   "id": "4d8595dd",
   "metadata": {},
   "outputs": [
    {
     "data": {
      "text/html": [
       "<div>\n",
       "<style scoped>\n",
       "    .dataframe tbody tr th:only-of-type {\n",
       "        vertical-align: middle;\n",
       "    }\n",
       "\n",
       "    .dataframe tbody tr th {\n",
       "        vertical-align: top;\n",
       "    }\n",
       "\n",
       "    .dataframe thead th {\n",
       "        text-align: right;\n",
       "    }\n",
       "</style>\n",
       "<table border=\"1\" class=\"dataframe\">\n",
       "  <thead>\n",
       "    <tr style=\"text-align: right;\">\n",
       "      <th></th>\n",
       "      <th>playResult</th>\n",
       "      <th>prePenaltyPlayResult</th>\n",
       "      <th>yardsToGo</th>\n",
       "      <th>down</th>\n",
       "    </tr>\n",
       "  </thead>\n",
       "  <tbody>\n",
       "    <tr>\n",
       "      <th>5986</th>\n",
       "      <td>79</td>\n",
       "      <td>79</td>\n",
       "      <td>2</td>\n",
       "      <td>3</td>\n",
       "    </tr>\n",
       "    <tr>\n",
       "      <th>6825</th>\n",
       "      <td>7</td>\n",
       "      <td>7</td>\n",
       "      <td>6</td>\n",
       "      <td>2</td>\n",
       "    </tr>\n",
       "    <tr>\n",
       "      <th>5794</th>\n",
       "      <td>4</td>\n",
       "      <td>4</td>\n",
       "      <td>10</td>\n",
       "      <td>1</td>\n",
       "    </tr>\n",
       "    <tr>\n",
       "      <th>6025</th>\n",
       "      <td>79</td>\n",
       "      <td>79</td>\n",
       "      <td>2</td>\n",
       "      <td>3</td>\n",
       "    </tr>\n",
       "    <tr>\n",
       "      <th>6354</th>\n",
       "      <td>16</td>\n",
       "      <td>16</td>\n",
       "      <td>10</td>\n",
       "      <td>1</td>\n",
       "    </tr>\n",
       "    <tr>\n",
       "      <th>6058</th>\n",
       "      <td>2</td>\n",
       "      <td>2</td>\n",
       "      <td>3</td>\n",
       "      <td>3</td>\n",
       "    </tr>\n",
       "    <tr>\n",
       "      <th>5415</th>\n",
       "      <td>6</td>\n",
       "      <td>6</td>\n",
       "      <td>10</td>\n",
       "      <td>1</td>\n",
       "    </tr>\n",
       "    <tr>\n",
       "      <th>6668</th>\n",
       "      <td>17</td>\n",
       "      <td>17</td>\n",
       "      <td>7</td>\n",
       "      <td>3</td>\n",
       "    </tr>\n",
       "    <tr>\n",
       "      <th>5746</th>\n",
       "      <td>0</td>\n",
       "      <td>0</td>\n",
       "      <td>1</td>\n",
       "      <td>3</td>\n",
       "    </tr>\n",
       "    <tr>\n",
       "      <th>6043</th>\n",
       "      <td>2</td>\n",
       "      <td>2</td>\n",
       "      <td>3</td>\n",
       "      <td>3</td>\n",
       "    </tr>\n",
       "    <tr>\n",
       "      <th>6386</th>\n",
       "      <td>15</td>\n",
       "      <td>15</td>\n",
       "      <td>10</td>\n",
       "      <td>1</td>\n",
       "    </tr>\n",
       "    <tr>\n",
       "      <th>6688</th>\n",
       "      <td>17</td>\n",
       "      <td>17</td>\n",
       "      <td>7</td>\n",
       "      <td>3</td>\n",
       "    </tr>\n",
       "    <tr>\n",
       "      <th>5776</th>\n",
       "      <td>0</td>\n",
       "      <td>0</td>\n",
       "      <td>1</td>\n",
       "      <td>3</td>\n",
       "    </tr>\n",
       "    <tr>\n",
       "      <th>6780</th>\n",
       "      <td>75</td>\n",
       "      <td>75</td>\n",
       "      <td>10</td>\n",
       "      <td>1</td>\n",
       "    </tr>\n",
       "    <tr>\n",
       "      <th>5619</th>\n",
       "      <td>-1</td>\n",
       "      <td>-1</td>\n",
       "      <td>10</td>\n",
       "      <td>1</td>\n",
       "    </tr>\n",
       "  </tbody>\n",
       "</table>\n",
       "</div>"
      ],
      "text/plain": [
       "      playResult  prePenaltyPlayResult  yardsToGo  down\n",
       "5986          79                    79          2     3\n",
       "6825           7                     7          6     2\n",
       "5794           4                     4         10     1\n",
       "6025          79                    79          2     3\n",
       "6354          16                    16         10     1\n",
       "6058           2                     2          3     3\n",
       "5415           6                     6         10     1\n",
       "6668          17                    17          7     3\n",
       "5746           0                     0          1     3\n",
       "6043           2                     2          3     3\n",
       "6386          15                    15         10     1\n",
       "6688          17                    17          7     3\n",
       "5776           0                     0          1     3\n",
       "6780          75                    75         10     1\n",
       "5619          -1                    -1         10     1"
      ]
     },
     "execution_count": 199,
     "metadata": {},
     "output_type": "execute_result"
    }
   ],
   "source": [
    "rav[feats]"
   ]
  },
  {
   "cell_type": "code",
   "execution_count": 200,
   "id": "26e249fe",
   "metadata": {},
   "outputs": [
    {
     "name": "stderr",
     "output_type": "stream",
     "text": [
      "/Users/cyn/anaconda3/lib/python3.11/site-packages/numpy/core/fromnumeric.py:3502: FutureWarning: In a future version, DataFrame.mean(axis=None) will return a scalar mean over the entire DataFrame. To retain the old behavior, use 'frame.mean(axis=0)' or just 'frame.mean()'\n",
      "  return mean(axis=axis, dtype=dtype, out=out, **kwargs)\n"
     ]
    },
    {
     "data": {
      "text/plain": [
       "playResult              21.200000\n",
       "prePenaltyPlayResult    21.200000\n",
       "yardsToGo                6.133333\n",
       "down                     2.133333\n",
       "dtype: float64"
      ]
     },
     "execution_count": 200,
     "metadata": {},
     "output_type": "execute_result"
    }
   ],
   "source": [
    "np.mean(rav[feats])"
   ]
  },
  {
   "cell_type": "code",
   "execution_count": 201,
   "id": "0b3678b7",
   "metadata": {},
   "outputs": [
    {
     "data": {
      "text/plain": [
       "21.2"
      ]
     },
     "execution_count": 201,
     "metadata": {},
     "output_type": "execute_result"
    }
   ],
   "source": [
    "np.mean(rav['playResult'])"
   ]
  },
  {
   "cell_type": "code",
   "execution_count": 202,
   "id": "06f4d7b2",
   "metadata": {},
   "outputs": [
    {
     "data": {
      "text/plain": [
       "15"
      ]
     },
     "execution_count": 202,
     "metadata": {},
     "output_type": "execute_result"
    }
   ],
   "source": [
    "len(rav)"
   ]
  },
  {
   "cell_type": "markdown",
   "id": "8b47d45c",
   "metadata": {},
   "source": [
    "## Scenarios"
   ]
  },
  {
   "cell_type": "code",
   "execution_count": 203,
   "id": "3300f2b7",
   "metadata": {},
   "outputs": [],
   "source": [
    "def predictions(features, deltas):\n",
    "    \"\"\" Changing features by deltas to see how it will\n",
    "        affect the expected points added\n",
    "    \"\"\"\n",
    "    rav2 = X_rav.copy()\n",
    "    for f, d in zip((features), deltas):\n",
    "        rav2[features] += deltas\n",
    "    return np.mean(RF_pipe.predict(X_rav)) / np.mean(RF_pipe.predict(rav2))  "
   ]
  },
  {
   "cell_type": "markdown",
   "id": "92543d3c",
   "metadata": {},
   "source": [
    "#### Scenario 1:"
   ]
  },
  {
   "cell_type": "code",
   "execution_count": 204,
   "id": "3e0c159f",
   "metadata": {},
   "outputs": [
    {
     "name": "stderr",
     "output_type": "stream",
     "text": [
      "/Users/cyn/anaconda3/lib/python3.11/site-packages/sklearn/impute/_base.py:555: UserWarning: Skipping features without any observed values: ['penaltyYards']. At least one non-missing value is needed for imputation with strategy='mean'.\n",
      "  warnings.warn(\n",
      "/Users/cyn/anaconda3/lib/python3.11/site-packages/sklearn/impute/_base.py:555: UserWarning: Skipping features without any observed values: ['penaltyYards']. At least one non-missing value is needed for imputation with strategy='mean'.\n",
      "  warnings.warn(\n",
      "/Users/cyn/anaconda3/lib/python3.11/site-packages/sklearn/impute/_base.py:555: UserWarning: Skipping features without any observed values: ['penaltyYards']. At least one non-missing value is needed for imputation with strategy='mean'.\n",
      "  warnings.warn(\n",
      "/Users/cyn/anaconda3/lib/python3.11/site-packages/sklearn/impute/_base.py:555: UserWarning: Skipping features without any observed values: ['penaltyYards']. At least one non-missing value is needed for imputation with strategy='mean'.\n",
      "  warnings.warn(\n",
      "/Users/cyn/anaconda3/lib/python3.11/site-packages/sklearn/impute/_base.py:555: UserWarning: Skipping features without any observed values: ['penaltyYards']. At least one non-missing value is needed for imputation with strategy='mean'.\n",
      "  warnings.warn(\n",
      "/Users/cyn/anaconda3/lib/python3.11/site-packages/sklearn/impute/_base.py:555: UserWarning: Skipping features without any observed values: ['penaltyYards']. At least one non-missing value is needed for imputation with strategy='mean'.\n",
      "  warnings.warn(\n",
      "/Users/cyn/anaconda3/lib/python3.11/site-packages/sklearn/impute/_base.py:555: UserWarning: Skipping features without any observed values: ['penaltyYards']. At least one non-missing value is needed for imputation with strategy='mean'.\n",
      "  warnings.warn(\n",
      "/Users/cyn/anaconda3/lib/python3.11/site-packages/sklearn/impute/_base.py:555: UserWarning: Skipping features without any observed values: ['penaltyYards']. At least one non-missing value is needed for imputation with strategy='mean'.\n",
      "  warnings.warn(\n",
      "/Users/cyn/anaconda3/lib/python3.11/site-packages/sklearn/impute/_base.py:555: UserWarning: Skipping features without any observed values: ['penaltyYards']. At least one non-missing value is needed for imputation with strategy='mean'.\n",
      "  warnings.warn(\n",
      "/Users/cyn/anaconda3/lib/python3.11/site-packages/sklearn/impute/_base.py:555: UserWarning: Skipping features without any observed values: ['penaltyYards']. At least one non-missing value is needed for imputation with strategy='mean'.\n",
      "  warnings.warn(\n",
      "/Users/cyn/anaconda3/lib/python3.11/site-packages/sklearn/impute/_base.py:555: UserWarning: Skipping features without any observed values: ['penaltyYards']. At least one non-missing value is needed for imputation with strategy='mean'.\n",
      "  warnings.warn(\n",
      "/Users/cyn/anaconda3/lib/python3.11/site-packages/sklearn/impute/_base.py:555: UserWarning: Skipping features without any observed values: ['penaltyYards']. At least one non-missing value is needed for imputation with strategy='mean'.\n",
      "  warnings.warn(\n",
      "/Users/cyn/anaconda3/lib/python3.11/site-packages/sklearn/impute/_base.py:555: UserWarning: Skipping features without any observed values: ['penaltyYards']. At least one non-missing value is needed for imputation with strategy='mean'.\n",
      "  warnings.warn(\n",
      "/Users/cyn/anaconda3/lib/python3.11/site-packages/sklearn/impute/_base.py:555: UserWarning: Skipping features without any observed values: ['penaltyYards']. At least one non-missing value is needed for imputation with strategy='mean'.\n",
      "  warnings.warn(\n",
      "/Users/cyn/anaconda3/lib/python3.11/site-packages/sklearn/impute/_base.py:555: UserWarning: Skipping features without any observed values: ['penaltyYards']. At least one non-missing value is needed for imputation with strategy='mean'.\n",
      "  warnings.warn(\n",
      "/Users/cyn/anaconda3/lib/python3.11/site-packages/sklearn/impute/_base.py:555: UserWarning: Skipping features without any observed values: ['penaltyYards']. At least one non-missing value is needed for imputation with strategy='mean'.\n",
      "  warnings.warn(\n",
      "/Users/cyn/anaconda3/lib/python3.11/site-packages/sklearn/impute/_base.py:555: UserWarning: Skipping features without any observed values: ['penaltyYards']. At least one non-missing value is needed for imputation with strategy='mean'.\n",
      "  warnings.warn(\n",
      "/Users/cyn/anaconda3/lib/python3.11/site-packages/sklearn/impute/_base.py:555: UserWarning: Skipping features without any observed values: ['penaltyYards']. At least one non-missing value is needed for imputation with strategy='mean'.\n",
      "  warnings.warn(\n",
      "/Users/cyn/anaconda3/lib/python3.11/site-packages/sklearn/impute/_base.py:555: UserWarning: Skipping features without any observed values: ['penaltyYards']. At least one non-missing value is needed for imputation with strategy='mean'.\n",
      "  warnings.warn(\n",
      "/Users/cyn/anaconda3/lib/python3.11/site-packages/sklearn/impute/_base.py:555: UserWarning: Skipping features without any observed values: ['penaltyYards']. At least one non-missing value is needed for imputation with strategy='mean'.\n",
      "  warnings.warn(\n",
      "/Users/cyn/anaconda3/lib/python3.11/site-packages/sklearn/impute/_base.py:555: UserWarning: Skipping features without any observed values: ['penaltyYards']. At least one non-missing value is needed for imputation with strategy='mean'.\n",
      "  warnings.warn(\n",
      "/Users/cyn/anaconda3/lib/python3.11/site-packages/sklearn/impute/_base.py:555: UserWarning: Skipping features without any observed values: ['penaltyYards']. At least one non-missing value is needed for imputation with strategy='mean'.\n",
      "  warnings.warn(\n",
      "/Users/cyn/anaconda3/lib/python3.11/site-packages/sklearn/impute/_base.py:555: UserWarning: Skipping features without any observed values: ['penaltyYards']. At least one non-missing value is needed for imputation with strategy='mean'.\n",
      "  warnings.warn(\n",
      "/Users/cyn/anaconda3/lib/python3.11/site-packages/sklearn/impute/_base.py:555: UserWarning: Skipping features without any observed values: ['penaltyYards']. At least one non-missing value is needed for imputation with strategy='mean'.\n",
      "  warnings.warn(\n",
      "/Users/cyn/anaconda3/lib/python3.11/site-packages/sklearn/impute/_base.py:555: UserWarning: Skipping features without any observed values: ['penaltyYards']. At least one non-missing value is needed for imputation with strategy='mean'.\n",
      "  warnings.warn(\n",
      "/Users/cyn/anaconda3/lib/python3.11/site-packages/sklearn/impute/_base.py:555: UserWarning: Skipping features without any observed values: ['penaltyYards']. At least one non-missing value is needed for imputation with strategy='mean'.\n",
      "  warnings.warn(\n",
      "/Users/cyn/anaconda3/lib/python3.11/site-packages/sklearn/impute/_base.py:555: UserWarning: Skipping features without any observed values: ['penaltyYards']. At least one non-missing value is needed for imputation with strategy='mean'.\n",
      "  warnings.warn(\n",
      "/Users/cyn/anaconda3/lib/python3.11/site-packages/sklearn/impute/_base.py:555: UserWarning: Skipping features without any observed values: ['penaltyYards']. At least one non-missing value is needed for imputation with strategy='mean'.\n",
      "  warnings.warn(\n",
      "/Users/cyn/anaconda3/lib/python3.11/site-packages/sklearn/impute/_base.py:555: UserWarning: Skipping features without any observed values: ['penaltyYards']. At least one non-missing value is needed for imputation with strategy='mean'.\n",
      "  warnings.warn(\n",
      "/Users/cyn/anaconda3/lib/python3.11/site-packages/sklearn/impute/_base.py:555: UserWarning: Skipping features without any observed values: ['penaltyYards']. At least one non-missing value is needed for imputation with strategy='mean'.\n",
      "  warnings.warn(\n"
     ]
    }
   ],
   "source": [
    "playdelta = [i for i in range(10, -5, -1)]\n",
    "epa_delta = [predictions(['playResult'], [delta]) for delta in playdelta]"
   ]
  },
  {
   "cell_type": "code",
   "execution_count": 205,
   "id": "6919123a",
   "metadata": {},
   "outputs": [
    {
     "data": {
      "image/png": "[encoded data removed]",
      "text/plain": [
       "<Figure size 640x480 with 1 Axes>"
      ]
     },
     "metadata": {},
     "output_type": "display_data"
    }
   ],
   "source": [
    "plt.plot(epa_delta)\n",
    "plt.xlabel('Play Result')\n",
    "plt.ylabel('Expected Points Added')\n",
    "plt.title('Expected Points added from play')\n",
    "plt.show()"
   ]
  },
  {
   "cell_type": "markdown",
   "id": "a9c12b6b",
   "metadata": {},
   "source": [
    "#### Scenario 2:"
   ]
  },
  {
   "cell_type": "markdown",
   "id": "bac1903d",
   "metadata": {},
   "source": [
    "Lets say that the play ran gave us a 4 yard gain, and only have 6 more yards to go at a second yard. What is our expected points added?"
   ]
  },
  {
   "cell_type": "code",
   "execution_count": 219,
   "id": "8f2a488d",
   "metadata": {},
   "outputs": [
    {
     "name": "stderr",
     "output_type": "stream",
     "text": [
      "/Users/cyn/anaconda3/lib/python3.11/site-packages/sklearn/impute/_base.py:555: UserWarning: Skipping features without any observed values: ['penaltyYards']. At least one non-missing value is needed for imputation with strategy='mean'.\n",
      "  warnings.warn(\n",
      "/Users/cyn/anaconda3/lib/python3.11/site-packages/sklearn/impute/_base.py:555: UserWarning: Skipping features without any observed values: ['penaltyYards']. At least one non-missing value is needed for imputation with strategy='mean'.\n",
      "  warnings.warn(\n"
     ]
    }
   ],
   "source": [
    "scenario2_shotgun = predictions(['offenseFormation_SHOTGUN', 'playResult', 'yardsToGo', 'down'], [1,4, 6, 2])"
   ]
  },
  {
   "cell_type": "code",
   "execution_count": 220,
   "id": "9c3ea455",
   "metadata": {},
   "outputs": [
    {
     "data": {
      "text/plain": [
       "0.935987341025051"
      ]
     },
     "execution_count": 220,
     "metadata": {},
     "output_type": "execute_result"
    }
   ],
   "source": [
    "scenario2_shotgun"
   ]
  },
  {
   "cell_type": "code",
   "execution_count": 223,
   "id": "d11c21a4",
   "metadata": {},
   "outputs": [
    {
     "name": "stderr",
     "output_type": "stream",
     "text": [
      "/Users/cyn/anaconda3/lib/python3.11/site-packages/sklearn/impute/_base.py:555: UserWarning: Skipping features without any observed values: ['penaltyYards']. At least one non-missing value is needed for imputation with strategy='mean'.\n",
      "  warnings.warn(\n",
      "/Users/cyn/anaconda3/lib/python3.11/site-packages/sklearn/impute/_base.py:555: UserWarning: Skipping features without any observed values: ['penaltyYards']. At least one non-missing value is needed for imputation with strategy='mean'.\n",
      "  warnings.warn(\n"
     ]
    }
   ],
   "source": [
    "scenario2_singleback = predictions(['offenseFormation_SINGLEBACK', 'playResult', 'yardsToGo', 'down'], [1,4, 6, 2])"
   ]
  },
  {
   "cell_type": "code",
   "execution_count": 224,
   "id": "ac6cc0c3",
   "metadata": {},
   "outputs": [
    {
     "data": {
      "text/plain": [
       "0.933119824179799"
      ]
     },
     "execution_count": 224,
     "metadata": {},
     "output_type": "execute_result"
    }
   ],
   "source": [
    "scenario2_singleback"
   ]
  },
  {
   "cell_type": "code",
   "execution_count": 229,
   "id": "9716c94c",
   "metadata": {},
   "outputs": [
    {
     "name": "stderr",
     "output_type": "stream",
     "text": [
      "/Users/cyn/anaconda3/lib/python3.11/site-packages/sklearn/impute/_base.py:555: UserWarning: Skipping features without any observed values: ['penaltyYards']. At least one non-missing value is needed for imputation with strategy='mean'.\n",
      "  warnings.warn(\n",
      "/Users/cyn/anaconda3/lib/python3.11/site-packages/sklearn/impute/_base.py:555: UserWarning: Skipping features without any observed values: ['penaltyYards']. At least one non-missing value is needed for imputation with strategy='mean'.\n",
      "  warnings.warn(\n"
     ]
    }
   ],
   "source": [
    "scenario2_I_FORM = predictions(['offenseFormation_I_FORM', 'playResult', 'yardsToGo', 'down'], [1,4, 6, 2])"
   ]
  },
  {
   "cell_type": "code",
   "execution_count": 230,
   "id": "e1fa91c6",
   "metadata": {},
   "outputs": [
    {
     "data": {
      "text/plain": [
       "0.9312979070904901"
      ]
     },
     "execution_count": 230,
     "metadata": {},
     "output_type": "execute_result"
    }
   ],
   "source": [
    "scenario2_I_FORM"
   ]
  },
  {
   "cell_type": "code",
   "execution_count": 231,
   "id": "aa5cf531",
   "metadata": {},
   "outputs": [
    {
     "name": "stderr",
     "output_type": "stream",
     "text": [
      "/Users/cyn/anaconda3/lib/python3.11/site-packages/sklearn/impute/_base.py:555: UserWarning: Skipping features without any observed values: ['penaltyYards']. At least one non-missing value is needed for imputation with strategy='mean'.\n",
      "  warnings.warn(\n",
      "/Users/cyn/anaconda3/lib/python3.11/site-packages/sklearn/impute/_base.py:555: UserWarning: Skipping features without any observed values: ['penaltyYards']. At least one non-missing value is needed for imputation with strategy='mean'.\n",
      "  warnings.warn(\n"
     ]
    },
    {
     "data": {
      "text/plain": [
       "0.9312979070904901"
      ]
     },
     "execution_count": 231,
     "metadata": {},
     "output_type": "execute_result"
    }
   ],
   "source": [
    "scenario2_PISTOL = predictions(['offenseFormation_PISTOL', 'playResult', 'yardsToGo', 'down'], [1,4, 6, 2])\n",
    "scenario2_PISTOL"
   ]
  },
  {
   "cell_type": "code",
   "execution_count": 233,
   "id": "dbe8779f",
   "metadata": {},
   "outputs": [
    {
     "name": "stderr",
     "output_type": "stream",
     "text": [
      "/Users/cyn/anaconda3/lib/python3.11/site-packages/sklearn/impute/_base.py:555: UserWarning: Skipping features without any observed values: ['penaltyYards']. At least one non-missing value is needed for imputation with strategy='mean'.\n",
      "  warnings.warn(\n",
      "/Users/cyn/anaconda3/lib/python3.11/site-packages/sklearn/impute/_base.py:555: UserWarning: Skipping features without any observed values: ['penaltyYards']. At least one non-missing value is needed for imputation with strategy='mean'.\n",
      "  warnings.warn(\n"
     ]
    },
    {
     "data": {
      "text/plain": [
       "0.9312979070904901"
      ]
     },
     "execution_count": 233,
     "metadata": {},
     "output_type": "execute_result"
    }
   ],
   "source": [
    "scenario2_JUMBO = predictions(['offenseFormation_JUMBO', 'playResult', 'yardsToGo', 'down'], [1,4, 6, 2])\n",
    "scenario2_JUMBO"
   ]
  },
  {
   "cell_type": "markdown",
   "id": "9891e639",
   "metadata": {},
   "source": [
    "#### Scenario 3:"
   ]
  },
  {
   "cell_type": "markdown",
   "id": "10141147",
   "metadata": {},
   "source": [
    "Lets say that the play ran gave us a 14 yard gain (lost 2 yards due to a foul), and only have 10 more yards to go at a first yard. What is our expected points added?"
   ]
  },
  {
   "cell_type": "code",
   "execution_count": 238,
   "id": "a844eb8f",
   "metadata": {},
   "outputs": [
    {
     "name": "stderr",
     "output_type": "stream",
     "text": [
      "/Users/cyn/anaconda3/lib/python3.11/site-packages/sklearn/impute/_base.py:555: UserWarning: Skipping features without any observed values: ['penaltyYards']. At least one non-missing value is needed for imputation with strategy='mean'.\n",
      "  warnings.warn(\n",
      "/Users/cyn/anaconda3/lib/python3.11/site-packages/sklearn/impute/_base.py:555: UserWarning: Skipping features without any observed values: ['penaltyYards']. At least one non-missing value is needed for imputation with strategy='mean'.\n",
      "  warnings.warn(\n"
     ]
    },
    {
     "data": {
      "text/plain": [
       "0.6737174397421543"
      ]
     },
     "execution_count": 238,
     "metadata": {},
     "output_type": "execute_result"
    }
   ],
   "source": [
    "scenario3_shotgun =predictions(['offenseFormation_SHOTGUN','playResult', 'yardsToGo', 'down', 'prePenaltyPlayResult'], [1, 14, 10, 1, 16])\n",
    "scenario3_shotgun"
   ]
  },
  {
   "cell_type": "code",
   "execution_count": 242,
   "id": "25734be4",
   "metadata": {},
   "outputs": [
    {
     "name": "stderr",
     "output_type": "stream",
     "text": [
      "/Users/cyn/anaconda3/lib/python3.11/site-packages/sklearn/impute/_base.py:555: UserWarning: Skipping features without any observed values: ['penaltyYards']. At least one non-missing value is needed for imputation with strategy='mean'.\n",
      "  warnings.warn(\n",
      "/Users/cyn/anaconda3/lib/python3.11/site-packages/sklearn/impute/_base.py:555: UserWarning: Skipping features without any observed values: ['penaltyYards']. At least one non-missing value is needed for imputation with strategy='mean'.\n",
      "  warnings.warn(\n"
     ]
    },
    {
     "data": {
      "text/plain": [
       "0.6728171569981625"
      ]
     },
     "execution_count": 242,
     "metadata": {},
     "output_type": "execute_result"
    }
   ],
   "source": [
    "scenario3_singleback = predictions(['offenseFormation_SINGLEBACK', 'playResult', 'yardsToGo', 'down', 'prePenaltyPlayResult'], [1, 14, 10, 1, 16])\n",
    "scenario3_singleback"
   ]
  },
  {
   "cell_type": "code",
   "execution_count": 243,
   "id": "d1f2f7a3",
   "metadata": {},
   "outputs": [
    {
     "name": "stderr",
     "output_type": "stream",
     "text": [
      "/Users/cyn/anaconda3/lib/python3.11/site-packages/sklearn/impute/_base.py:555: UserWarning: Skipping features without any observed values: ['penaltyYards']. At least one non-missing value is needed for imputation with strategy='mean'.\n",
      "  warnings.warn(\n",
      "/Users/cyn/anaconda3/lib/python3.11/site-packages/sklearn/impute/_base.py:555: UserWarning: Skipping features without any observed values: ['penaltyYards']. At least one non-missing value is needed for imputation with strategy='mean'.\n",
      "  warnings.warn(\n"
     ]
    },
    {
     "data": {
      "text/plain": [
       "0.6718694272707595"
      ]
     },
     "execution_count": 243,
     "metadata": {},
     "output_type": "execute_result"
    }
   ],
   "source": [
    "scenario3_I_FORM = predictions(['offenseFormation_I_FORM', 'playResult', 'yardsToGo', 'down', 'prePenaltyPlayResult'], [1, 14, 10, 1, 16])\n",
    "scenario3_I_FORM"
   ]
  },
  {
   "cell_type": "code",
   "execution_count": 244,
   "id": "ee34a90a",
   "metadata": {},
   "outputs": [
    {
     "name": "stderr",
     "output_type": "stream",
     "text": [
      "/Users/cyn/anaconda3/lib/python3.11/site-packages/sklearn/impute/_base.py:555: UserWarning: Skipping features without any observed values: ['penaltyYards']. At least one non-missing value is needed for imputation with strategy='mean'.\n",
      "  warnings.warn(\n",
      "/Users/cyn/anaconda3/lib/python3.11/site-packages/sklearn/impute/_base.py:555: UserWarning: Skipping features without any observed values: ['penaltyYards']. At least one non-missing value is needed for imputation with strategy='mean'.\n",
      "  warnings.warn(\n"
     ]
    },
    {
     "data": {
      "text/plain": [
       "0.6718694272707595"
      ]
     },
     "execution_count": 244,
     "metadata": {},
     "output_type": "execute_result"
    }
   ],
   "source": [
    "scenario3_PISTOL = predictions(['offenseFormation_PISTOL', 'playResult', 'yardsToGo', 'down', 'prePenaltyPlayResult'], [1, 14, 10, 1, 16])\n",
    "scenario3_PISTOL"
   ]
  },
  {
   "cell_type": "code",
   "execution_count": 245,
   "id": "8dd0acb9",
   "metadata": {},
   "outputs": [
    {
     "name": "stderr",
     "output_type": "stream",
     "text": [
      "/Users/cyn/anaconda3/lib/python3.11/site-packages/sklearn/impute/_base.py:555: UserWarning: Skipping features without any observed values: ['penaltyYards']. At least one non-missing value is needed for imputation with strategy='mean'.\n",
      "  warnings.warn(\n",
      "/Users/cyn/anaconda3/lib/python3.11/site-packages/sklearn/impute/_base.py:555: UserWarning: Skipping features without any observed values: ['penaltyYards']. At least one non-missing value is needed for imputation with strategy='mean'.\n",
      "  warnings.warn(\n"
     ]
    },
    {
     "data": {
      "text/plain": [
       "0.6718694272707595"
      ]
     },
     "execution_count": 245,
     "metadata": {},
     "output_type": "execute_result"
    }
   ],
   "source": [
    "scenario3_JUMBO = predictions(['offenseFormation_JUMBO', 'playResult', 'yardsToGo', 'down', 'prePenaltyPlayResult'], [1, 14, 10, 1, 16])\n",
    "scenario3_JUMBO"
   ]
  },
  {
   "cell_type": "markdown",
   "id": "c0b7d50e",
   "metadata": {},
   "source": [
    "## Conclusions"
   ]
  },
  {
   "cell_type": "markdown",
   "id": "3d3f617a",
   "metadata": {},
   "source": [
    "After running various scenarios, it seems like the offensive formation of 'Shotgun' suits the team the best. After each scenario, that was the formation that brought in the most expected points added."
   ]
  }
 ],
 "metadata": {
  "kernelspec": {
   "display_name": "Python 3 (ipykernel)",
   "language": "python",
   "name": "python3"
  },
  "language_info": {
   "codemirror_mode": {
    "name": "ipython",
    "version": 3
   },
   "file_extension": ".py",
   "mimetype": "text/x-python",
   "name": "python",
   "nbconvert_exporter": "python",
   "pygments_lexer": "ipython3",
   "version": "3.11.4"
  }
 },
 "nbformat": 4,
 "nbformat_minor": 5
}
